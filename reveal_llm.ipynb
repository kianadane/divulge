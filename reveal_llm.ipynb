{
 "cells": [
  {
   "cell_type": "markdown",
   "metadata": {},
   "source": [
    "# Setup"
   ]
  },
  {
   "cell_type": "code",
   "execution_count": 1,
   "metadata": {},
   "outputs": [],
   "source": [
    "import requests\n",
    "from io import StringIO\n",
    "import pandas as pd\n",
    "import numpy as np\n",
    "from datetime import timedelta\n",
    "import os\n",
    "import sys\n",
    "import logging\n",
    "from sodapy import Socrata\n",
    "from transformers import AutoTokenizer, AutoModelForCausalLM, pipeline\n",
    "import langchain\n",
    "from langchain.agents import initialize_agent, Tool, AgentType, AgentExecutor\n",
    "from langchain.llms import HuggingFaceHub\n",
    "from langchain.prompts import PromptTemplate\n",
    "from langchain.memory import ConversationBufferMemory, ConversationBufferWindowMemory, ConversationSummaryMemory, ConversationSummaryBufferMemory\n",
    "from langchain.chains import LLMChain\n",
    "from langchain.prompts import MessagesPlaceholder\n",
    "from langchain_huggingface import HuggingFaceEndpoint\n",
    "\n",
    "\n",
    "from tqdm import tqdm\n",
    "from geopy.distance import geodesic\n",
    "import json\n",
    "from datetime import timedelta\n",
    "import time\n",
    "from scipy.spatial import cKDTree\n",
    "\n",
    "\n",
    "\n",
    "\n",
    "\n",
    "\n"
   ]
  },
  {
   "cell_type": "code",
   "execution_count": 2,
   "metadata": {},
   "outputs": [],
   "source": [
    "# load personal HuggingFace token\n",
    "with open(\"kdtok\", \"r\") as f:\n",
    "    kdtok = f.read().strip()\n",
    "\n",
    "os.environ[\"HUGGINGFACEHUB_API_TOKEN\"] = kdtok"
   ]
  },
  {
   "cell_type": "markdown",
   "metadata": {},
   "source": [
    "### SF Excavation Permits Dataset"
   ]
  },
  {
   "cell_type": "code",
   "execution_count": 3,
   "metadata": {},
   "outputs": [
    {
     "name": "stderr",
     "output_type": "stream",
     "text": [
      "WARNING:root:Requests made without an app_token will be subject to strict throttling limits.\n"
     ]
    },
    {
     "name": "stdout",
     "output_type": "stream",
     "text": [
      "✅ Saved SF permits: 3760 rows\n"
     ]
    }
   ],
   "source": [
    "PERMITS_DIR = \"mined_data/permits\"\n",
    "os.makedirs(PERMITS_DIR, exist_ok=True)\n",
    "\n",
    "def pull_sfgov_utility_permits():\n",
    "    from sodapy import Socrata\n",
    "    client = Socrata(\"data.sfgov.org\", None)\n",
    "    dataset_id = \"smdf-6c45\"  # Utility Excavation Permits\n",
    "    results = client.get(dataset_id, limit=100000)\n",
    "    df = pd.DataFrame.from_records(results)\n",
    "    df.to_csv(f\"{PERMITS_DIR}/sf_utility_permits.csv\", index=False)\n",
    "    print(f\"✅ Saved SF permits: {len(df)} rows\")\n",
    "    return df\n",
    "\n",
    "df_permits = pull_sfgov_utility_permits()"
   ]
  },
  {
   "cell_type": "code",
   "execution_count": 4,
   "metadata": {},
   "outputs": [
    {
     "name": "stdout",
     "output_type": "stream",
     "text": [
      "            effective_date          expiration_date\n",
      "0  2025-04-24T00:00:00.000  2025-05-22T00:00:00.000\n",
      "1  2025-04-29T00:00:00.000  2025-05-12T00:00:00.000\n",
      "2  2025-06-23T00:00:00.000  2025-07-21T00:00:00.000\n",
      "3  2025-04-15T00:00:00.000  2025-05-13T00:00:00.000\n",
      "4  2025-06-09T00:00:00.000  2025-07-07T00:00:00.000\n",
      "5  2025-04-28T00:00:00.000  2025-05-11T00:00:00.000\n",
      "6  2025-04-14T00:00:00.000  2025-05-12T00:00:00.000\n",
      "7  2025-04-28T00:00:00.000  2025-05-11T00:00:00.000\n",
      "8  2025-04-14T00:00:00.000  2025-05-16T00:00:00.000\n",
      "9  2025-05-02T00:00:00.000  2025-05-30T00:00:00.000\n"
     ]
    }
   ],
   "source": [
    "# --- 1. Load Sensor Results ---\n",
    "sensor_results = pd.read_csv(\"mined_data/sf_sensor_results_alltime.csv\", low_memory=False)\n",
    "sensor_results[\"ActivityStartDate\"] = pd.to_datetime(sensor_results[\"ActivityStartDate\"])\n",
    "\n",
    "# --- 2. Load Permits ---\n",
    "df_permits = df_permits\n",
    "# Add new columns for latitude and longitude\n",
    "df_permits[\"latitude\"] = None\n",
    "df_permits[\"longitude\"] = None\n",
    "\n",
    "# Function to geocode a street\n",
    "def geocode_address(streetname):\n",
    "    if not streetname or pd.isna(streetname):\n",
    "        return None, None\n",
    "    \n",
    "    address = f\"{streetname}, San Francisco, CA\"\n",
    "    url = \"https://nominatim.openstreetmap.org/search\"\n",
    "    params = {\n",
    "        \"q\": address,\n",
    "        \"format\": \"json\",\n",
    "        \"limit\": 1\n",
    "    }\n",
    "    headers = {\n",
    "        \"User-Agent\": \"MyGeocoder (youremail@example.com)\"  # important: Nominatim requires identifying user-agent\n",
    "    }\n",
    "    response = requests.get(url, params=params, headers=headers)\n",
    "    if response.status_code == 200:\n",
    "        results = response.json()\n",
    "        if results:\n",
    "            return results[0][\"lat\"], results[0][\"lon\"]\n",
    "    return None, None\n",
    "\n",
    "print(df_permits[[\"effective_date\", \"expiration_date\"]].head(10))"
   ]
  },
  {
   "cell_type": "code",
   "execution_count": 5,
   "metadata": {},
   "outputs": [
    {
     "name": "stdout",
     "output_type": "stream",
     "text": [
      "✅ Loaded 172588 sensor records and 3760 permits.\n"
     ]
    }
   ],
   "source": [
    "# 1.1 Load Sensor Results\n",
    "df_sensors = pd.read_csv(\"mined_data/sf_sensor_results_alltime.csv\", low_memory=False)\n",
    "df_sensors[\"ActivityStartDate\"] = pd.to_datetime(df_sensors[\"ActivityStartDate\"], errors=\"coerce\")\n",
    "\n",
    "# 1.2 Load Permit Data\n",
    "df_permits = pd.read_csv(\"mined_data/permits/sf_utility_permits.csv\", low_memory=False)\n",
    "\n",
    "# Optional parse dates\n",
    "for col in [\"effective_date\", \"expiration_date\"]:\n",
    "    if col in df_permits.columns:\n",
    "        df_permits[col] = pd.to_datetime(df_permits[col], errors=\"coerce\")\n",
    "\n",
    "print(f\"✅ Loaded {len(df_sensors)} sensor records and {len(df_permits)} permits.\")"
   ]
  },
  {
   "cell_type": "code",
   "execution_count": 6,
   "metadata": {},
   "outputs": [],
   "source": [
    "# import pandas as pd\n",
    "# import time\n",
    "# from tqdm import tqdm\n",
    "\n",
    "# # Parameters\n",
    "# save_every = 100\n",
    "output_path = \"mined_data/permits_geocoded.csv\"\n",
    "\n",
    "# # Add missing columns\n",
    "# df_permits[\"latitude\"] = pd.NA\n",
    "# df_permits[\"longitude\"] = pd.NA\n",
    "\n",
    "# # Geocode each permit nicely\n",
    "# for idx, row in tqdm(df_permits.iterrows(), total=len(df_permits), desc=\"Geocoding permits\"):\n",
    "#     if pd.isna(row[\"latitude\"]) or pd.isna(row[\"longitude\"]):  # Only geocode missing\n",
    "#         lat, lon = geocode_address(row[\"streetname\"])\n",
    "#         df_permits.at[idx, \"latitude\"] = lat\n",
    "#         df_permits.at[idx, \"longitude\"] = lon\n",
    "#         time.sleep(1)  # Be polite\n",
    "\n",
    "#         if idx % save_every == 0:\n",
    "#             df_permits.to_csv(output_path, index=False)\n",
    "#             tqdm.write(f\"💾 Progress saved at {idx} records\")\n",
    "\n",
    "# # Final save\n",
    "# df_permits.to_csv(output_path, index=False)\n",
    "# print(f\"✅ All permits geocoded and saved to {output_path}\")"
   ]
  },
  {
   "cell_type": "code",
   "execution_count": 7,
   "metadata": {
    "scrolled": true
   },
   "outputs": [
    {
     "name": "stdout",
     "output_type": "stream",
     "text": [
      "✅ Loaded 3760 permits.\n"
     ]
    }
   ],
   "source": [
    "# Load and clean\n",
    "df_permits = pd.read_csv(output_path, low_memory=False)\n",
    "df_permits[\"effective_date\"] = pd.to_datetime(df_permits[\"effective_date\"], errors=\"coerce\")\n",
    "df_permits[\"expiration_date\"] = pd.to_datetime(df_permits[\"expiration_date\"], errors=\"coerce\")\n",
    "df_permits[\"latitude\"] = pd.to_numeric(df_permits[\"latitude\"], errors=\"coerce\")\n",
    "df_permits[\"longitude\"] = pd.to_numeric(df_permits[\"longitude\"], errors=\"coerce\")\n",
    "\n",
    "print(f\"✅ Loaded {len(df_permits)} permits.\")"
   ]
  },
  {
   "cell_type": "code",
   "execution_count": 8,
   "metadata": {},
   "outputs": [
    {
     "name": "stdout",
     "output_type": "stream",
     "text": [
      "     permit_number            streetname     cross_street_1 cross_street_2  \\\n",
      "0      24EXC-03805             MARKET ST  01ST ST \\ BUSH ST        02ND ST   \n",
      "1      24EXC-03026               05TH ST         MISSION ST            NaN   \n",
      "2      24EXC-03026            FREMONT ST          HOWARD ST            NaN   \n",
      "3      24EXC-03026               03RD ST   SAINT FRANCIS PL            NaN   \n",
      "4      24EXC-03026             HOWARD ST            MAIN ST            NaN   \n",
      "...            ...                   ...                ...            ...   \n",
      "3755   24EXC-01436  DIAMOND HEIGHTS BLVD          DUNCAN ST   GOLD MINE DR   \n",
      "3756   24EXC-04102              26TH AVE         GEARY BLVD            NaN   \n",
      "3757   24EXC-04102              02ND AVE         GEARY BLVD            NaN   \n",
      "3758   24EXC-04102            GEARY BLVD           15TH AVE       16TH AVE   \n",
      "3759   24EXC-03388            PARKER AVE         GEARY BLVD        ANZA ST   \n",
      "\n",
      "                   utility_contractor      permit_reason  \\\n",
      "0     Shimmick Construction Co., Inc.              Other   \n",
      "1               NTK Construction, Inc        Repair Main   \n",
      "2               NTK Construction, Inc        Repair Main   \n",
      "3               NTK Construction, Inc        Repair Main   \n",
      "4               NTK Construction, Inc        Repair Main   \n",
      "...                               ...                ...   \n",
      "3755  Esquivel Grading & Paving, Inc.    Repair Sidewalk   \n",
      "3756                     Cratus, Inc.   Install New Main   \n",
      "3757                     Cratus, Inc.   Install New Main   \n",
      "3758                     Cratus, Inc.   Install New Main   \n",
      "3759  Esquivel Grading & Paving, Inc.  Corrosion Testing   \n",
      "\n",
      "                                           utility_type effective_date  \\\n",
      "0                                                 Other     2024-10-25   \n",
      "1                                     Catch Basin:Sewer     2024-09-18   \n",
      "2                                     Catch Basin:Sewer     2024-09-18   \n",
      "3                                     Catch Basin:Sewer     2024-09-18   \n",
      "4                                     Catch Basin:Sewer     2024-09-18   \n",
      "...                                                 ...            ...   \n",
      "3755  Street / Roadway:Sidewalk/Curb:Sewer:Curb Ramp...     2024-06-03   \n",
      "3756         Sidewalk/Curb:Electric:Water Service:Sewer     2025-01-02   \n",
      "3757         Sidewalk/Curb:Electric:Water Service:Sewer     2025-01-02   \n",
      "3758         Sidewalk/Curb:Electric:Water Service:Sewer     2025-01-02   \n",
      "3759  Traffic Signal:Landscaping:Sewer:Catch Basin:S...     2025-01-13   \n",
      "\n",
      "     expiration_date    status       cnn   latitude   longitude  \n",
      "0         2025-06-12    ACTIVE   8742101  37.792925 -122.396790  \n",
      "1         2025-10-10  APPROVED  24634000        NaN         NaN  \n",
      "2         2025-10-10  APPROVED  24527000  37.788516 -122.394221  \n",
      "3         2025-10-10  APPROVED  24592000        NaN         NaN  \n",
      "4         2025-10-10  APPROVED  24504000  37.792171 -122.391435  \n",
      "...              ...       ...       ...        ...         ...  \n",
      "3755      2026-01-31  APPROVED   4777101  37.738373 -122.437186  \n",
      "3756      2027-06-29    ACTIVE  27554000  37.780050 -122.485822  \n",
      "3757      2027-06-29    ACTIVE  27231000        NaN         NaN  \n",
      "3758      2027-06-29    ACTIVE   6072201  37.779496 -122.499220  \n",
      "3759      2026-07-31  APPROVED  10275000  37.782772 -122.454424  \n",
      "\n",
      "[3760 rows x 13 columns]\n"
     ]
    }
   ],
   "source": [
    "# --- 3. Define Your 4 Sensor Sites (Latitude/Longitude) ---\n",
    "stations = {\n",
    "    \"09424150\": (34.316111, -114.156389),\n",
    "    \"09424170\": (34.300000, -114.162500),\n",
    "    \"09427500\": (34.316111, -114.156389),\n",
    "    \"09427520\": (34.295556, -114.139444),\n",
    "}\n",
    "\n",
    "# --- 4. Find Permits Near Each Station (Geospatial Filtering) ---\n",
    "def find_permits_near_station_fast(stations, permits_df, radius_km=2.0):\n",
    "    station_ids = list(stations.keys())\n",
    "    station_coords = np.array(list(stations.values()))\n",
    "    \n",
    "    # Only valid permits\n",
    "    valid_permits = permits_df.dropna(subset=[\"latitude\", \"longitude\"]).copy()\n",
    "    permit_coords = valid_permits[[\"latitude\", \"longitude\"]].astype(float).to_numpy()\n",
    "\n",
    "    # KDTree for fast radius lookup\n",
    "    tree = cKDTree(permit_coords)\n",
    "\n",
    "    EARTH_RADIUS_KM = 6371.0\n",
    "    radius_in_radians = radius_km / EARTH_RADIUS_KM\n",
    "\n",
    "    matches = []\n",
    "\n",
    "    for siteid, site_coord in zip(station_ids, station_coords):\n",
    "        idxs = tree.query_ball_point(site_coord, r=radius_in_radians)\n",
    "        \n",
    "        for idx in idxs:\n",
    "            permit_row = valid_permits.iloc[idx]\n",
    "            matches.append({\n",
    "                \"siteid\": siteid,\n",
    "                \"latitude\": permit_row.get(\"latitude\"),\n",
    "                \"longitude\": permit_row.get(\"longitude\"),\n",
    "                \"permit_number\": permit_row.get(\"permit_number\"),\n",
    "                \"permit_reason\": permit_row.get(\"permit_reason\"),\n",
    "                \"streetname\": permit_row.get(\"streetname\"),\n",
    "                \"utility_contractor\": permit_row.get(\"utility_contractor\"),\n",
    "                \"status\": permit_row.get(\"status\"),\n",
    "                \"effective_date\": permit_row.get(\"effective_date\"),    # <- ADD THIS\n",
    "                \"expiration_date\": permit_row.get(\"expiration_date\"),  # <- ADD THIS\n",
    "                \"distance_km\": None  # optional, you can calculate later\n",
    "            })\n",
    "\n",
    "    return pd.DataFrame(matches)\n",
    "df_permits = pd.read_csv(\"mined_data/permits_geocoded.csv\", low_memory=False)\n",
    "print(df_permits)"
   ]
  },
  {
   "cell_type": "code",
   "execution_count": 9,
   "metadata": {},
   "outputs": [
    {
     "data": {
      "text/html": [
       "<div style=\"width:100%;\"><div style=\"position:relative;width:100%;height:0;padding-bottom:60%;\"><span style=\"color:#565656\">Make this Notebook Trusted to load map: File -> Trust Notebook</span><iframe srcdoc=\"&lt;!DOCTYPE html&gt;\n",
       "&lt;html&gt;\n",
       "&lt;head&gt;\n",
       "    \n",
       "    &lt;meta http-equiv=&quot;content-type&quot; content=&quot;text/html; charset=UTF-8&quot; /&gt;\n",
       "    \n",
       "        &lt;script&gt;\n",
       "            L_NO_TOUCH = false;\n",
       "            L_DISABLE_3D = false;\n",
       "        &lt;/script&gt;\n",
       "    \n",
       "    &lt;style&gt;html, body {width: 100%;height: 100%;margin: 0;padding: 0;}&lt;/style&gt;\n",
       "    &lt;style&gt;#map {position:absolute;top:0;bottom:0;right:0;left:0;}&lt;/style&gt;\n",
       "    &lt;script src=&quot;https://cdn.jsdelivr.net/npm/leaflet@1.9.3/dist/leaflet.js&quot;&gt;&lt;/script&gt;\n",
       "    &lt;script src=&quot;https://code.jquery.com/jquery-3.7.1.min.js&quot;&gt;&lt;/script&gt;\n",
       "    &lt;script src=&quot;https://cdn.jsdelivr.net/npm/bootstrap@5.2.2/dist/js/bootstrap.bundle.min.js&quot;&gt;&lt;/script&gt;\n",
       "    &lt;script src=&quot;https://cdnjs.cloudflare.com/ajax/libs/Leaflet.awesome-markers/2.0.2/leaflet.awesome-markers.js&quot;&gt;&lt;/script&gt;\n",
       "    &lt;link rel=&quot;stylesheet&quot; href=&quot;https://cdn.jsdelivr.net/npm/leaflet@1.9.3/dist/leaflet.css&quot;/&gt;\n",
       "    &lt;link rel=&quot;stylesheet&quot; href=&quot;https://cdn.jsdelivr.net/npm/bootstrap@5.2.2/dist/css/bootstrap.min.css&quot;/&gt;\n",
       "    &lt;link rel=&quot;stylesheet&quot; href=&quot;https://netdna.bootstrapcdn.com/bootstrap/3.0.0/css/bootstrap-glyphicons.css&quot;/&gt;\n",
       "    &lt;link rel=&quot;stylesheet&quot; href=&quot;https://cdn.jsdelivr.net/npm/@fortawesome/fontawesome-free@6.2.0/css/all.min.css&quot;/&gt;\n",
       "    &lt;link rel=&quot;stylesheet&quot; href=&quot;https://cdnjs.cloudflare.com/ajax/libs/Leaflet.awesome-markers/2.0.2/leaflet.awesome-markers.css&quot;/&gt;\n",
       "    &lt;link rel=&quot;stylesheet&quot; href=&quot;https://cdn.jsdelivr.net/gh/python-visualization/folium/folium/templates/leaflet.awesome.rotate.min.css&quot;/&gt;\n",
       "    \n",
       "            &lt;meta name=&quot;viewport&quot; content=&quot;width=device-width,\n",
       "                initial-scale=1.0, maximum-scale=1.0, user-scalable=no&quot; /&gt;\n",
       "            &lt;style&gt;\n",
       "                #map_8379be2b066cef11e1f9622ad4b83701 {\n",
       "                    position: relative;\n",
       "                    width: 100.0%;\n",
       "                    height: 100.0%;\n",
       "                    left: 0.0%;\n",
       "                    top: 0.0%;\n",
       "                }\n",
       "                .leaflet-container { font-size: 1rem; }\n",
       "            &lt;/style&gt;\n",
       "        \n",
       "&lt;/head&gt;\n",
       "&lt;body&gt;\n",
       "    \n",
       "    \n",
       "            &lt;div class=&quot;folium-map&quot; id=&quot;map_8379be2b066cef11e1f9622ad4b83701&quot; &gt;&lt;/div&gt;\n",
       "        \n",
       "&lt;/body&gt;\n",
       "&lt;script&gt;\n",
       "    \n",
       "    \n",
       "            var map_8379be2b066cef11e1f9622ad4b83701 = L.map(\n",
       "                &quot;map_8379be2b066cef11e1f9622ad4b83701&quot;,\n",
       "                {\n",
       "                    center: [34.3069445, -114.15368050000001],\n",
       "                    crs: L.CRS.EPSG3857,\n",
       "                    ...{\n",
       "  &quot;zoom&quot;: 12,\n",
       "  &quot;zoomControl&quot;: true,\n",
       "  &quot;preferCanvas&quot;: false,\n",
       "}\n",
       "\n",
       "                }\n",
       "            );\n",
       "\n",
       "            \n",
       "\n",
       "        \n",
       "    \n",
       "            var tile_layer_015729b7cd814b7a37f4fa786af589d2 = L.tileLayer(\n",
       "                &quot;https://stamen-tiles.a.ssl.fastly.net/terrain/{z}/{x}/{y}.png&quot;,\n",
       "                {\n",
       "  &quot;minZoom&quot;: 0,\n",
       "  &quot;maxZoom&quot;: 18,\n",
       "  &quot;maxNativeZoom&quot;: 18,\n",
       "  &quot;noWrap&quot;: false,\n",
       "  &quot;attribution&quot;: &quot;Map tiles by Stamen Design, CC BY 3.0 \\u2014 Map data \\u00a9 OpenStreetMap contributors&quot;,\n",
       "  &quot;subdomains&quot;: &quot;abc&quot;,\n",
       "  &quot;detectRetina&quot;: false,\n",
       "  &quot;tms&quot;: false,\n",
       "  &quot;opacity&quot;: 1,\n",
       "}\n",
       "\n",
       "            );\n",
       "        \n",
       "    \n",
       "            tile_layer_015729b7cd814b7a37f4fa786af589d2.addTo(map_8379be2b066cef11e1f9622ad4b83701);\n",
       "        \n",
       "    \n",
       "            var marker_1a23b35dd586a509491f08e1f1d49d1a = L.marker(\n",
       "                [34.316111, -114.156389],\n",
       "                {\n",
       "}\n",
       "            ).addTo(map_8379be2b066cef11e1f9622ad4b83701);\n",
       "        \n",
       "    \n",
       "        var popup_c65ee148ac5bfe7ffaa8e4d57efa0507 = L.popup({\n",
       "  &quot;maxWidth&quot;: &quot;100%&quot;,\n",
       "});\n",
       "\n",
       "        \n",
       "            \n",
       "                var html_ff43d1443fdfb64509681896caa4b6f4 = $(`&lt;div id=&quot;html_ff43d1443fdfb64509681896caa4b6f4&quot; style=&quot;width: 100.0%; height: 100.0%;&quot;&gt;Station 09424150&lt;/div&gt;`)[0];\n",
       "                popup_c65ee148ac5bfe7ffaa8e4d57efa0507.setContent(html_ff43d1443fdfb64509681896caa4b6f4);\n",
       "            \n",
       "        \n",
       "\n",
       "        marker_1a23b35dd586a509491f08e1f1d49d1a.bindPopup(popup_c65ee148ac5bfe7ffaa8e4d57efa0507)\n",
       "        ;\n",
       "\n",
       "        \n",
       "    \n",
       "    \n",
       "            var marker_f14675ee2a3c5785d449f4c909a2affb = L.marker(\n",
       "                [34.3, -114.1625],\n",
       "                {\n",
       "}\n",
       "            ).addTo(map_8379be2b066cef11e1f9622ad4b83701);\n",
       "        \n",
       "    \n",
       "        var popup_eb8accc373306c2e5a680f8036956f72 = L.popup({\n",
       "  &quot;maxWidth&quot;: &quot;100%&quot;,\n",
       "});\n",
       "\n",
       "        \n",
       "            \n",
       "                var html_d04084a84ff15ef6fe1e3047399cc7b7 = $(`&lt;div id=&quot;html_d04084a84ff15ef6fe1e3047399cc7b7&quot; style=&quot;width: 100.0%; height: 100.0%;&quot;&gt;Station 09424170&lt;/div&gt;`)[0];\n",
       "                popup_eb8accc373306c2e5a680f8036956f72.setContent(html_d04084a84ff15ef6fe1e3047399cc7b7);\n",
       "            \n",
       "        \n",
       "\n",
       "        marker_f14675ee2a3c5785d449f4c909a2affb.bindPopup(popup_eb8accc373306c2e5a680f8036956f72)\n",
       "        ;\n",
       "\n",
       "        \n",
       "    \n",
       "    \n",
       "            var marker_b76d4bc51b1285702485dea267b8c71a = L.marker(\n",
       "                [34.316111, -114.156389],\n",
       "                {\n",
       "}\n",
       "            ).addTo(map_8379be2b066cef11e1f9622ad4b83701);\n",
       "        \n",
       "    \n",
       "        var popup_c6d775c9527818590c2f3545010b0eab = L.popup({\n",
       "  &quot;maxWidth&quot;: &quot;100%&quot;,\n",
       "});\n",
       "\n",
       "        \n",
       "            \n",
       "                var html_efe63697ad9a9a286fd04bba1dc65564 = $(`&lt;div id=&quot;html_efe63697ad9a9a286fd04bba1dc65564&quot; style=&quot;width: 100.0%; height: 100.0%;&quot;&gt;Station 09427500&lt;/div&gt;`)[0];\n",
       "                popup_c6d775c9527818590c2f3545010b0eab.setContent(html_efe63697ad9a9a286fd04bba1dc65564);\n",
       "            \n",
       "        \n",
       "\n",
       "        marker_b76d4bc51b1285702485dea267b8c71a.bindPopup(popup_c6d775c9527818590c2f3545010b0eab)\n",
       "        ;\n",
       "\n",
       "        \n",
       "    \n",
       "    \n",
       "            var marker_db6f16f52d5349d18b982ac44ffabe54 = L.marker(\n",
       "                [34.295556, -114.139444],\n",
       "                {\n",
       "}\n",
       "            ).addTo(map_8379be2b066cef11e1f9622ad4b83701);\n",
       "        \n",
       "    \n",
       "        var popup_8c70b82d2412402ffdf33d99a0f1236c = L.popup({\n",
       "  &quot;maxWidth&quot;: &quot;100%&quot;,\n",
       "});\n",
       "\n",
       "        \n",
       "            \n",
       "                var html_d5c2638de1d72757f15b81c1cdd2cd5c = $(`&lt;div id=&quot;html_d5c2638de1d72757f15b81c1cdd2cd5c&quot; style=&quot;width: 100.0%; height: 100.0%;&quot;&gt;Station 09427520&lt;/div&gt;`)[0];\n",
       "                popup_8c70b82d2412402ffdf33d99a0f1236c.setContent(html_d5c2638de1d72757f15b81c1cdd2cd5c);\n",
       "            \n",
       "        \n",
       "\n",
       "        marker_db6f16f52d5349d18b982ac44ffabe54.bindPopup(popup_8c70b82d2412402ffdf33d99a0f1236c)\n",
       "        ;\n",
       "\n",
       "        \n",
       "    \n",
       "    \n",
       "            tile_layer_015729b7cd814b7a37f4fa786af589d2.addTo(map_8379be2b066cef11e1f9622ad4b83701);\n",
       "        \n",
       "&lt;/script&gt;\n",
       "&lt;/html&gt;\" style=\"position:absolute;width:100%;height:100%;left:0;top:0;border:none !important;\" allowfullscreen webkitallowfullscreen mozallowfullscreen></iframe></div></div>"
      ],
      "text/plain": [
       "<folium.folium.Map at 0x7af3b8bfcdd0>"
      ]
     },
     "execution_count": 9,
     "metadata": {},
     "output_type": "execute_result"
    }
   ],
   "source": [
    "import folium\n",
    "\n",
    "# Station data\n",
    "stations = {\n",
    "    \"09424150\": (34.316111, -114.156389),\n",
    "    \"09424170\": (34.300000, -114.162500),\n",
    "    \"09427500\": (34.316111, -114.156389),\n",
    "    \"09427520\": (34.295556, -114.139444),\n",
    "}\n",
    "\n",
    "# Create a base map centered around the average coordinates\n",
    "avg_lat = sum([coord[0] for coord in stations.values()]) / len(stations)\n",
    "avg_lon = sum([coord[1] for coord in stations.values()]) / len(stations)\n",
    "\n",
    "m = folium.Map(\n",
    "    location=(avg_lat, avg_lon),\n",
    "    zoom_start=12,\n",
    "    tiles='https://stamen-tiles.a.ssl.fastly.net/terrain/{z}/{x}/{y}.png',\n",
    "    attr='Map tiles by Stamen Design, CC BY 3.0 — Map data © OpenStreetMap contributors'\n",
    ")\n",
    "\n",
    "# Add each station as a marker\n",
    "for station_id, (lat, lon) in stations.items():\n",
    "    folium.Marker(location=(lat, lon), popup=f\"Station {station_id}\").add_to(m)\n",
    "\n",
    "# Display the map (in Jupyter, this will show inline)\n",
    "m.save(\"ca_stations_map.html\")\n",
    "m"
   ]
  },
  {
   "cell_type": "code",
   "execution_count": 10,
   "metadata": {},
   "outputs": [
    {
     "name": "stdout",
     "output_type": "stream",
     "text": [
      "  effective_date expiration_date\n",
      "0     2024-10-25      2025-06-12\n",
      "1     2024-09-18      2025-10-10\n",
      "2     2024-09-18      2025-10-10\n",
      "3     2024-09-18      2025-10-10\n",
      "4     2024-09-18      2025-10-10\n"
     ]
    }
   ],
   "source": [
    "df_permits_near = find_permits_near_station_fast(stations, df_permits, radius_km=2.0)\n",
    "\n",
    "# Fix datatypes\n",
    "df_permits_near[\"effective_date\"] = pd.to_datetime(df_permits[\"effective_date\"], errors=\"coerce\")\n",
    "df_permits_near[\"expiration_date\"] = pd.to_datetime(df_permits[\"expiration_date\"], errors=\"coerce\")\n",
    "\n",
    "print(df_permits_near.head())"
   ]
  },
  {
   "cell_type": "code",
   "execution_count": 11,
   "metadata": {},
   "outputs": [],
   "source": [
    "# --- 5. Match Permits to Sensor Readings Based on Time ---\n",
    "sensor_results = sensor_results.sort_values(\"ActivityStartDate\")\n",
    "df_permits_near = df_permits_near.sort_values(\"effective_date\")\n",
    "\n",
    "# Filter permits within reasonable window\n",
    "min_sensor_time = sensor_results[\"ActivityStartDate\"].min()\n",
    "max_sensor_time = sensor_results[\"ActivityStartDate\"].max()\n",
    "\n",
    "df_permits_near = df_permits_near[\n",
    "    (df_permits_near[\"expiration_date\"] >= min_sensor_time - pd.Timedelta(days=7)) &\n",
    "    (df_permits_near[\"effective_date\"] <= max_sensor_time + pd.Timedelta(days=7))\n",
    "]"
   ]
  },
  {
   "cell_type": "code",
   "execution_count": 12,
   "metadata": {},
   "outputs": [
    {
     "name": "stdout",
     "output_type": "stream",
     "text": [
      "Sensor data: 1906-04-27 00:00:00 to 2024-01-10 00:00:00\n",
      "Permit data: 2023-06-19 00:00:00 to 2027-07-08 00:00:00\n"
     ]
    }
   ],
   "source": [
    "# Drop permits without lat/lon\n",
    "df_permits = df_permits.dropna(subset=[\"latitude\", \"longitude\"])\n",
    "\n",
    "# Ensure datetime parsing\n",
    "df_sensors[\"ActivityStartDate\"] = pd.to_datetime(df_sensors[\"ActivityStartDate\"], errors=\"coerce\")\n",
    "df_permits[\"effective_date\"] = pd.to_datetime(df_permits[\"effective_date\"], errors=\"coerce\")\n",
    "df_permits[\"expiration_date\"] = pd.to_datetime(df_permits[\"expiration_date\"], errors=\"coerce\")\n",
    "\n",
    "# Print data range diagnostics\n",
    "print(\"Sensor data:\", df_sensors[\"ActivityStartDate\"].min(), \"to\", df_sensors[\"ActivityStartDate\"].max())\n",
    "print(\"Permit data:\", df_permits[\"effective_date\"].min(), \"to\", df_permits[\"expiration_date\"].max())"
   ]
  },
  {
   "cell_type": "code",
   "execution_count": null,
   "metadata": {},
   "outputs": [],
   "source": []
  },
  {
   "cell_type": "markdown",
   "metadata": {},
   "source": [
    "## ==================="
   ]
  },
  {
   "cell_type": "code",
   "execution_count": null,
   "metadata": {},
   "outputs": [],
   "source": []
  },
  {
   "cell_type": "code",
   "execution_count": 13,
   "metadata": {},
   "outputs": [],
   "source": [
    "def search_permits_by_date(target_date, permits_df, window_days=3):\n",
    "    # Look +/- window_days around the event\n",
    "    start = target_date - timedelta(days=window_days)\n",
    "    end = target_date + timedelta(days=window_days)\n",
    "    \n",
    "    matches = permits_df[\n",
    "        (permits_df[\"effective_date\"] <= end) & (permits_df[\"expiration_date\"] >= start)\n",
    "    ]\n",
    "    return matches.to_dict(orient=\"records\")"
   ]
  },
  {
   "cell_type": "code",
   "execution_count": 14,
   "metadata": {},
   "outputs": [],
   "source": [
    "def search_sensor_anomalies(characteristic_name, df_sensor, z_threshold=2.0):\n",
    "    \"\"\"\n",
    "    Find anomalies in the sensor dataset based on a simple z-score method.\n",
    "    \n",
    "    Args:\n",
    "        characteristic_name (str): e.g., 'Dissolved oxygen (DO)', 'Water temperature'\n",
    "        df_sensor (DataFrame): Sensor data with columns: 'CharacteristicName', 'ResultMeasureValue', 'ActivityStartDate'\n",
    "        z_threshold (float): How many standard deviations from mean counts as anomaly (default = 2.0)\n",
    "\n",
    "    Returns:\n",
    "        list of dicts: Anomalous records\n",
    "    \"\"\"\n",
    "    # filter by characteristic\n",
    "    df_filtered = df_sensor[df_sensor[\"CharacteristicName\"].str.contains(characteristic_name, case=False, na=False)].copy()\n",
    "\n",
    "    if df_filtered.empty:\n",
    "        return [{\"message\": f\"No data found for characteristic: {characteristic_name}\"}]\n",
    "\n",
    "    # convert result to numeric, handle missing values\n",
    "    df_filtered[\"ResultMeasureValue\"] = pd.to_numeric(df_filtered[\"ResultMeasureValue\"], errors=\"coerce\")\n",
    "    df_filtered = df_filtered.dropna(subset=[\"ResultMeasureValue\"])\n",
    "\n",
    "    # calculate mean and std\n",
    "    mean = df_filtered[\"ResultMeasureValue\"].mean()\n",
    "    std = df_filtered[\"ResultMeasureValue\"].std()\n",
    "\n",
    "    # define upper and lower bounds\n",
    "    upper = mean + z_threshold * std\n",
    "    lower = mean - z_threshold * std\n",
    "\n",
    "    # find anomalies\n",
    "    anomalies = df_filtered[(df_filtered[\"ResultMeasureValue\"] > upper) | (df_filtered[\"ResultMeasureValue\"] < lower)]\n",
    "\n",
    "    # return a list of anomaly records\n",
    "    return anomalies[[\n",
    "        \"ActivityStartDate\", \n",
    "        \"CharacteristicName\", \n",
    "        \"ResultMeasureValue\", \n",
    "        \"ResultMeasure/MeasureUnitCode\"\n",
    "    ]].to_dict(orient=\"records\")"
   ]
  },
  {
   "cell_type": "code",
   "execution_count": 15,
   "metadata": {},
   "outputs": [],
   "source": [
    "import json\n",
    "from langchain_core.callbacks.base import BaseCallbackHandler\n",
    "\n",
    "class SaveLogger(BaseCallbackHandler):\n",
    "    def __init__(self):\n",
    "        self.logs = []  # initialize empty list to store events\n",
    "\n",
    "    def on_agent_action(self, action, state, *args, **kwargs):\n",
    "        self.logs.append({\n",
    "            \"event\": \"agent_action\",\n",
    "            \"thought\": action.log.strip(),\n",
    "            \"tool\": action.tool,\n",
    "            \"tool_input\": action.tool_input,\n",
    "        })\n",
    "    \n",
    "    def on_tool_end(self, output, action, state, *args, **kwargs):\n",
    "        self.logs.append({\n",
    "            \"event\": \"tool_result\",\n",
    "            \"tool\": action.tool,\n",
    "            \"tool_input\": action.tool_input,\n",
    "            \"tool_output\": output,\n",
    "        })\n",
    "\n",
    "    def export_to_json(self, filename):\n",
    "        with open(filename, \"w\") as f:\n",
    "            json.dump(self.logs, f, indent=2)"
   ]
  },
  {
   "cell_type": "code",
   "execution_count": 16,
   "metadata": {},
   "outputs": [],
   "source": [
    "# load personal HuggingFace token\n",
    "with open(\"kdtok\", \"r\") as f:\n",
    "    kdtok = f.read().strip()\n",
    "\n",
    "os.environ[\"HUGGINGFACEHUB_API_TOKEN\"] = kdtok\n",
    "\n",
    "# create the llm\n",
    "llm = HuggingFaceEndpoint(\n",
    "    repo_id=\"mistralai/Mistral-7B-Instruct-v0.3\",\n",
    "    task=\"text-generation\",\n",
    "    temperature=0.3,\n",
    "    max_new_tokens=512\n",
    ")"
   ]
  },
  {
   "cell_type": "code",
   "execution_count": 17,
   "metadata": {},
   "outputs": [],
   "source": [
    "PERMITS_DIR = \"mined_data/permits\"\n",
    "SENSOR_FILE = \"mined_data/sf_sensor_results_alltime.csv\"\n",
    "PERMIT_FILE = \"mined_data/permits_geocoded.csv\"\n",
    "os.makedirs(PERMITS_DIR, exist_ok=True)"
   ]
  },
  {
   "cell_type": "code",
   "execution_count": 18,
   "metadata": {},
   "outputs": [],
   "source": [
    "from langchain_core.language_models import LLM\n",
    "from pydantic import Field\n",
    "from huggingface_hub import InferenceClient\n",
    "\n",
    "class HFClientLLM(LLM):\n",
    "    client: InferenceClient = Field()\n",
    "\n",
    "    def _call(self, prompt: str, stop=None, run_manager=None, **kwargs):\n",
    "        response = self.client.text_generation(\n",
    "            prompt,\n",
    "            max_new_tokens=512,\n",
    "            temperature=0.3,\n",
    "        )\n",
    "        return response[0][\"generated_text\"]  # <--- FIXED\n",
    "\n",
    "    @property\n",
    "    def _llm_type(self):\n",
    "        return \"huggingface_client\"\n",
    "\n",
    "# Connect to model\n",
    "client = InferenceClient(model=\"mistralai/Mistral-7B-Instruct-v0.3\", token=kdtok)\n",
    "\n",
    "# Instantiate CORRECTLY\n",
    "llm = HFClientLLM(client=client)"
   ]
  },
  {
   "cell_type": "code",
   "execution_count": 19,
   "metadata": {},
   "outputs": [
    {
     "name": "stdout",
     "output_type": "stream",
     "text": [
      "['permit_number', 'streetname', 'cross_street_1', 'cross_street_2', 'utility_contractor', 'permit_reason', 'utility_type', 'effective_date', 'expiration_date', 'status', 'cnn', 'latitude', 'longitude']\n"
     ]
    }
   ],
   "source": [
    "print(df_permits.columns.tolist())"
   ]
  },
  {
   "cell_type": "code",
   "execution_count": 20,
   "metadata": {},
   "outputs": [
    {
     "name": "stdout",
     "output_type": "stream",
     "text": [
      "✅ Rows after manual matching: 599\n",
      "Loaded 599 sensor records and 599 permits.\n"
     ]
    },
    {
     "name": "stderr",
     "output_type": "stream",
     "text": [
      "[nltk_data] Downloading package punkt to /home/ubuntu/nltk_data...\n",
      "[nltk_data]   Package punkt is already up-to-date!\n",
      "[nltk_data] Downloading package punkt_tab to /home/ubuntu/nltk_data...\n",
      "[nltk_data]   Package punkt_tab is already up-to-date!\n"
     ]
    }
   ],
   "source": [
    "import os\n",
    "import pandas as pd\n",
    "import json\n",
    "import random\n",
    "import re\n",
    "from huggingface_hub import InferenceClient\n",
    "from langchain_core.language_models import LLM\n",
    "from pydantic import Field\n",
    "from tqdm import tqdm\n",
    "\n",
    "# --- 1. Config ---\n",
    "SENSOR_FILE = \"mined_data/sf_sensor_results_alltime.csv\"\n",
    "PERMIT_FILE = \"mined_data/permits_geocoded.csv\"\n",
    "OUTPUT_FILE = \"mined_data/examples_cleaned2.jsonl\"\n",
    "kdtok = os.getenv(\"HUGGINGFACEHUB_API_TOKEN\")\n",
    "HF_TOKEN = kdtok\n",
    "\n",
    "# --- 2. Templates for synthetic input ---\n",
    "templates = [\n",
    "    \"Sensor report: On {ActivityStartDate} at {street}, {CharacteristicName} was measured at {ResultMeasureValue} {ResultMeasure/MeasureUnitCode}.\",\n",
    "    \"On {street}, {CharacteristicName} = {ResultMeasureValue} {ResultMeasure/MeasureUnitCode} recorded on {ActivityStartDate}.\",\n",
    "    \"Detected {CharacteristicName} at {ResultMeasureValue} {ResultMeasure/MeasureUnitCode} on {street} during {ActivityStartDate}.\",\n",
    "]\n",
    "\n",
    "# --- 3. LangChain-compatible HF client ---\n",
    "class HFClientLLM(LLM):\n",
    "    client: InferenceClient = Field()\n",
    "\n",
    "    def _call(self, prompt: str, stop=None, run_manager=None, **kwargs):\n",
    "        return self.client.text_generation(\n",
    "            prompt,\n",
    "            max_new_tokens=512,\n",
    "            temperature=0.3,\n",
    "        )\n",
    "\n",
    "    @property\n",
    "    def _llm_type(self):\n",
    "        return \"huggingface_client\"\n",
    "    \n",
    "# --- 4. Connect to model ---\n",
    "client = InferenceClient(model=\"mistralai/Mistral-7B-Instruct-v0.3\", token=HF_TOKEN)\n",
    "llm = HFClientLLM(client=client)\n",
    "\n",
    "# --- 5. Load input data ---\n",
    "df_sensors = pd.read_csv(SENSOR_FILE, low_memory=False)\n",
    "df_permits = pd.read_csv(PERMIT_FILE, low_memory=False)\n",
    "\n",
    "df_sensors[\"ActivityStartDate\"] = pd.to_datetime(df_sensors[\"ActivityStartDate\"], errors=\"coerce\")\n",
    "\n",
    "# Simplify street info for generation\n",
    "df_permits[\"street\"] = df_permits[\"streetname\"].fillna(\"unknown location\")\n",
    "df_permits[\"streetname\"] = df_permits[\"streetname\"].astype(str).str.lower().str.strip()\n",
    "df_sensors[\"ActivityCommentText\"] = df_sensors[\"ActivityCommentText\"].astype(str).str.lower().str.strip()\n",
    "\n",
    "\n",
    "df_sensors[\"sensor_street\"] = df_sensors[\"ActivityCommentText\"].str.extract(\n",
    "    r'(\\b[a-zA-Z\\s]+(?:st|ave|blvd|road|rd|ln|drive|dr)\\b)', expand=False\n",
    ").str.strip().str.lower()\n",
    "\n",
    "# --- 6. Manual join of sensor + permit records (fuzzy match) ---\n",
    "matching_rows = []\n",
    "for _, sensor_row in df_sensors.iterrows():\n",
    "    street = sensor_row[\"sensor_street\"]\n",
    "    if pd.isna(street):\n",
    "        continue\n",
    "    permit_matches = df_permits[df_permits[\"streetname\"].str.contains(street, na=False)]\n",
    "    for _, permit_row in permit_matches.iterrows():\n",
    "        combined = {**sensor_row, **permit_row}\n",
    "        matching_rows.append(combined)\n",
    "\n",
    "sensor_with_permits = pd.DataFrame(matching_rows)\n",
    "print(\"✅ Rows after manual matching:\", len(sensor_with_permits))\n",
    "\n",
    "# Now define these AFTER the merge:\n",
    "sensor_records = sensor_with_permits.to_dict(orient=\"records\")\n",
    "permit_records = sensor_with_permits.to_dict(orient=\"records\")\n",
    "print(f\"Loaded {len(sensor_records)} sensor records and {len(permit_records)} permits.\")\n",
    "\n",
    "# --- 8. Prompt template ---\n",
    "BOOSTER_PROMPT_TEMPLATE = \"\"\"\n",
    "You are helping to generate a question about a construction project that might explain a sensor reading.\n",
    "\n",
    "Here is a sensor event:\n",
    "{sensor_text}\n",
    "\n",
    "Write a specific question or hypothesis that directly links the sensor reading to a nearby construction activity, using realistic construction terms (e.g., pipeline, concrete, excavation, grading, sewer).\n",
    "\"\"\"\n",
    "from nltk.tokenize import word_tokenize\n",
    "import nltk\n",
    "import traceback\n",
    "!rm -rf ~/nltk_data/tokenizers/punkt\n",
    "\n",
    "# Download tokenizer data once\n",
    "nltk.download(\"punkt\")\n",
    "nltk.download(\"punkt_tab\")\n",
    "\n",
    "def keyword_in_output(output, keywords):\n",
    "    output_lower = output.lower()\n",
    "    return any(k in output_lower for k in keywords)"
   ]
  },
  {
   "cell_type": "code",
   "execution_count": 21,
   "metadata": {},
   "outputs": [],
   "source": [
    "# # --- 9. Generate and save ---\n",
    "\n",
    "# results = []\n",
    "\n",
    "# construction_keywords = [\n",
    "#     \"utility\", \"utilities\", \"subsurface\", \"digging\", \"excavation\", \"trenching\",\n",
    "#     \"boring\", \"drilling\", \"site preparation\", \"grading\", \"foundation\",\n",
    "#     \"siting\", \"surveying\", \"zoning\", \"permit issuance\", \"permit\", \"inspection\",\n",
    "#     \"infrastructure\", \"earthworks\", \"soil stabilization\", \"seismic\", \"retaining wall\",\n",
    "#     \"geotechnical\", \"pavement\", \"drainage\", \"underground utilities\", \"pipeline\", \"cable installation\"\n",
    "# ]\n",
    "# extended_keywords = [\n",
    "#     # Core construction and permitting terms\n",
    "#     \"construction\", \"building\", \"grading\", \"foundation\", \"paving\", \"roadwork\", \"sidewalk\", \"driveway\",\n",
    "#     \"repair\", \"excavation\", \"trenching\", \"boring\", \"drilling\", \"subsurface\", \"geotechnical\",\n",
    "#     \"earthworks\", \"surveying\", \"zoning\", \"permit\", \"inspection\",\n",
    "\n",
    "#     # Materials and pollutants\n",
    "#     \"concrete\", \"cement\", \"lime\", \"gravel\", \"sand\", \"asphalt\", \"rebar\", \"sealant\", \"slurry\",\n",
    "#     \"paint\", \"solvent\", \"debris\", \"dust\", \"silt\", \"sediment\", \"runoff\", \"turbidity\", \"chloride\",\n",
    "#     \"lead\", \"arsenic\", \"phosphorus\", \"nitrate\", \"copper\", \"zinc\", \"contaminant\", \"pollution\",\n",
    "\n",
    "#     # Equipment and activity\n",
    "#     \"jackhammer\", \"bulldozer\", \"backhoe\", \"milling\", \"cutting\", \"pouring\", \"blasting\", \"compacting\",\n",
    "#     \"digging\", \"hauling\", \"grinding\", \"sawing\", \"installation\",\n",
    "\n",
    "#     # Utility-specific\n",
    "#     \"pipeline\", \"utility\", \"utilities\", \"cable\", \"fiber\", \"telecom\", \"waterline\", \"sewer\", \"stormwater\",\n",
    "#     \"drainage\", \"gas line\", \"underground utilities\", \"electrical\", \"power\",\n",
    "\n",
    "#     # Environmental and indirect terms\n",
    "#     \"irrigation\", \"erosion\", \"soil\", \"stabilization\", \"retaining wall\", \"permeability\", \"wetland\",\n",
    "#     \"storm\", \"inflow\", \"discharge\", \"leak\", \"spill\", \"overflow\"\n",
    "# ]\n",
    "\n",
    "# keyword_pattern = re.compile(r'\\b(?:' + '|'.join(map(re.escape, construction_keywords)) + r')\\b', flags=re.IGNORECASE)\n",
    "\n",
    "# def normalize(text):\n",
    "#     return re.sub(r'\\s+', ' ', text).strip()\n",
    "\n",
    "# def keyword_in_output(output, keywords):\n",
    "#     tokens = word_tokenize(output.lower())\n",
    "#     return any(k in tokens for k in keywords)\n",
    "\n",
    "# for idx, (sensor, permit) in enumerate(tqdm(zip(sensor_records, permit_records), total=len(sensor_records))):\n",
    "#     try:\n",
    "#         print(f\"\\n🔁 Iteration {idx + 1}\")\n",
    "#         sensor_clean = dict(sensor)\n",
    "#         sensor_clean.pop(\"ActivityStartDate\", None)\n",
    "\n",
    "#         # Format sensor text\n",
    "#         activity_date = sensor.get(\"ActivityStartDate\")\n",
    "#         if isinstance(activity_date, pd.Timestamp):\n",
    "#             date_str = activity_date.strftime(\"%Y-%m-%d\")\n",
    "#         elif isinstance(activity_date, str):\n",
    "#             date_str = activity_date[:10]\n",
    "#         else:\n",
    "#             raise ValueError(\"Invalid or missing ActivityStartDate\")\n",
    "\n",
    "#         sensor_clean = dict(sensor)\n",
    "#         sensor_clean.pop(\"ActivityStartDate\", None)\n",
    "#         sensor_clean.pop(\"street\", None)  # ← This prevents the duplicate key issue\n",
    "        \n",
    "#         sensor_text = random.choice(templates).format(\n",
    "#             ActivityStartDate=date_str,\n",
    "#             street=permit.get(\"street\", \"unknown location\"),\n",
    "#             **sensor_clean\n",
    "#         )\n",
    "\n",
    "#         full_prompt = BOOSTER_PROMPT_TEMPLATE.format(sensor_text=sensor_text.strip())\n",
    "#         output = llm(full_prompt).strip()\n",
    "\n",
    "#         print(f\"--- Output #{idx + 1} ---\\n{output}\")\n",
    "\n",
    "#         if keyword_in_output(output, extended_keywords):\n",
    "#             print(\"✅ Saving example.\")\n",
    "#             results.append({\n",
    "#                 \"input\": normalize(sensor_text),\n",
    "#                 \"output\": normalize(output)\n",
    "#             })\n",
    "#         else:\n",
    "#             print(\"❌ No keyword match.\")\n",
    "\n",
    "#     except Exception as e:\n",
    "#         print(f\"⚠️ Skipped pair {idx + 1} due to error: {e}\")\n",
    "#         continue"
   ]
  },
  {
   "cell_type": "code",
   "execution_count": 22,
   "metadata": {},
   "outputs": [],
   "source": [
    "# # --- 10. Write output ---\n",
    "# os.makedirs(os.path.dirname(OUTPUT_FILE), exist_ok=True)\n",
    "# with open(OUTPUT_FILE, \"w\") as f:\n",
    "#     for ex in results:\n",
    "#         f.write(json.dumps(ex) + \"\\n\")\n",
    "\n",
    "# print(f\"✅ Generated and saved {len(results)} cleaned examples to {OUTPUT_FILE}\")"
   ]
  },
  {
   "cell_type": "code",
   "execution_count": 23,
   "metadata": {},
   "outputs": [
    {
     "name": "stdout",
     "output_type": "stream",
     "text": [
      "✅ Saved 599 examples for fine-tuning to mined_data/examples_finetuned.jsonl\n"
     ]
    }
   ],
   "source": [
    "import json\n",
    "from datasets import load_dataset\n",
    "\n",
    "# Paths\n",
    "input_path = \"mined_data/examples_cleaned2.jsonl\"\n",
    "output_path = \"mined_data/examples_finetuned.jsonl\"\n",
    "\n",
    "# Load cleaned examples\n",
    "examples = []\n",
    "with open(input_path, \"r\") as f:\n",
    "    for line in f:\n",
    "        if line.strip():\n",
    "            examples.append(json.loads(line))\n",
    "\n",
    "# Convert into 'messages' format\n",
    "finetune_ready = []\n",
    "\n",
    "for ex in examples:\n",
    "    input_text = ex[\"input\"].strip()\n",
    "    output_text = ex[\"output\"].strip()\n",
    "\n",
    "    finetune_ready.append({\n",
    "        \"input\": input_text,\n",
    "        \"output\": output_text\n",
    "    })\n",
    "\n",
    "# Save new fine-tune dataset\n",
    "with open(output_path, \"w\") as f:\n",
    "    for item in finetune_ready:\n",
    "        f.write(json.dumps(item) + \"\\n\")\n",
    "\n",
    "print(f\"✅ Saved {len(finetune_ready)} examples for fine-tuning to {output_path}\")"
   ]
  },
  {
   "cell_type": "code",
   "execution_count": 24,
   "metadata": {
    "scrolled": false
   },
   "outputs": [
    {
     "data": {
      "application/vnd.jupyter.widget-view+json": {
       "model_id": "bf456e3c72454b498ddc64d9fd36c0f1",
       "version_major": 2,
       "version_minor": 0
      },
      "text/plain": [
       "Generating train split: 0 examples [00:00, ? examples/s]"
      ]
     },
     "metadata": {},
     "output_type": "display_data"
    },
    {
     "data": {
      "application/vnd.jupyter.widget-view+json": {
       "model_id": "8ff6ac94cbbb4daaa6d55129d8b81d09",
       "version_major": 2,
       "version_minor": 0
      },
      "text/plain": [
       "Loading checkpoint shards:   0%|          | 0/3 [00:00<?, ?it/s]"
      ]
     },
     "metadata": {},
     "output_type": "display_data"
    },
    {
     "data": {
      "application/vnd.jupyter.widget-view+json": {
       "model_id": "32cb9020bf614487a93a0fe835c7b2fb",
       "version_major": 2,
       "version_minor": 0
      },
      "text/plain": [
       "Applying formatting function to train dataset:   0%|          | 0/539 [00:00<?, ? examples/s]"
      ]
     },
     "metadata": {},
     "output_type": "display_data"
    },
    {
     "data": {
      "application/vnd.jupyter.widget-view+json": {
       "model_id": "bc7cecc43253497f82da9b3b41de6da9",
       "version_major": 2,
       "version_minor": 0
      },
      "text/plain": [
       "Converting train dataset to ChatML:   0%|          | 0/539 [00:00<?, ? examples/s]"
      ]
     },
     "metadata": {},
     "output_type": "display_data"
    },
    {
     "data": {
      "application/vnd.jupyter.widget-view+json": {
       "model_id": "18b8a7bebf0841b0acbcb8021f9ff3da",
       "version_major": 2,
       "version_minor": 0
      },
      "text/plain": [
       "Adding EOS to train dataset:   0%|          | 0/539 [00:00<?, ? examples/s]"
      ]
     },
     "metadata": {},
     "output_type": "display_data"
    },
    {
     "data": {
      "application/vnd.jupyter.widget-view+json": {
       "model_id": "a0eeaf6988b74bdaa7dcea48de9516d0",
       "version_major": 2,
       "version_minor": 0
      },
      "text/plain": [
       "Tokenizing train dataset:   0%|          | 0/539 [00:00<?, ? examples/s]"
      ]
     },
     "metadata": {},
     "output_type": "display_data"
    },
    {
     "data": {
      "application/vnd.jupyter.widget-view+json": {
       "model_id": "9a140a38a1b54fd591f069c746516c0f",
       "version_major": 2,
       "version_minor": 0
      },
      "text/plain": [
       "Truncating train dataset:   0%|          | 0/539 [00:00<?, ? examples/s]"
      ]
     },
     "metadata": {},
     "output_type": "display_data"
    },
    {
     "data": {
      "application/vnd.jupyter.widget-view+json": {
       "model_id": "3668ee726fa14595b5b493eb516ae5b5",
       "version_major": 2,
       "version_minor": 0
      },
      "text/plain": [
       "Applying formatting function to eval dataset:   0%|          | 0/60 [00:00<?, ? examples/s]"
      ]
     },
     "metadata": {},
     "output_type": "display_data"
    },
    {
     "data": {
      "application/vnd.jupyter.widget-view+json": {
       "model_id": "b1f0d47e21264b71a1a983b786772be7",
       "version_major": 2,
       "version_minor": 0
      },
      "text/plain": [
       "Converting eval dataset to ChatML:   0%|          | 0/60 [00:00<?, ? examples/s]"
      ]
     },
     "metadata": {},
     "output_type": "display_data"
    },
    {
     "data": {
      "application/vnd.jupyter.widget-view+json": {
       "model_id": "89bd9a8c03034a3ba8917792da7daeee",
       "version_major": 2,
       "version_minor": 0
      },
      "text/plain": [
       "Adding EOS to eval dataset:   0%|          | 0/60 [00:00<?, ? examples/s]"
      ]
     },
     "metadata": {},
     "output_type": "display_data"
    },
    {
     "data": {
      "application/vnd.jupyter.widget-view+json": {
       "model_id": "a2ed50d2b71747d4a277f19c2255a9c1",
       "version_major": 2,
       "version_minor": 0
      },
      "text/plain": [
       "Tokenizing eval dataset:   0%|          | 0/60 [00:00<?, ? examples/s]"
      ]
     },
     "metadata": {},
     "output_type": "display_data"
    },
    {
     "data": {
      "application/vnd.jupyter.widget-view+json": {
       "model_id": "e70b3963e1a84a10aa47f2c02aa50223",
       "version_major": 2,
       "version_minor": 0
      },
      "text/plain": [
       "Truncating eval dataset:   0%|          | 0/60 [00:00<?, ? examples/s]"
      ]
     },
     "metadata": {},
     "output_type": "display_data"
    },
    {
     "name": "stderr",
     "output_type": "stream",
     "text": [
      "No label_names provided for model class `PeftModelForCausalLM`. Since `PeftModel` hides base models input arguments, if label_names is not given, label_names can't be set automatically within `Trainer`. Note that empty label_names list will be used instead.\n",
      "`use_cache=True` is incompatible with gradient checkpointing. Setting `use_cache=False`.\n",
      "/home/ubuntu/kdenv2/lib/python3.12/site-packages/torch/_dynamo/eval_frame.py:838: UserWarning: torch.utils.checkpoint: the use_reentrant parameter should be passed explicitly. In version 2.5 we will raise an exception if use_reentrant is not passed. use_reentrant=False is recommended, but if you need to preserve the current default behavior, you can pass use_reentrant=True. Refer to docs for more details on the differences between the two variants.\n",
      "  return fn(*args, **kwargs)\n"
     ]
    },
    {
     "data": {
      "text/html": [
       "\n",
       "    <div>\n",
       "      \n",
       "      <progress value='670' max='670' style='width:300px; height:20px; vertical-align: middle;'></progress>\n",
       "      [670/670 52:01, Epoch 9/10]\n",
       "    </div>\n",
       "    <table border=\"1\" class=\"dataframe\">\n",
       "  <thead>\n",
       " <tr style=\"text-align: left;\">\n",
       "      <th>Step</th>\n",
       "      <th>Training Loss</th>\n",
       "    </tr>\n",
       "  </thead>\n",
       "  <tbody>\n",
       "    <tr>\n",
       "      <td>10</td>\n",
       "      <td>1.698500</td>\n",
       "    </tr>\n",
       "    <tr>\n",
       "      <td>20</td>\n",
       "      <td>0.843200</td>\n",
       "    </tr>\n",
       "    <tr>\n",
       "      <td>30</td>\n",
       "      <td>0.467700</td>\n",
       "    </tr>\n",
       "    <tr>\n",
       "      <td>40</td>\n",
       "      <td>0.410800</td>\n",
       "    </tr>\n",
       "    <tr>\n",
       "      <td>50</td>\n",
       "      <td>0.395800</td>\n",
       "    </tr>\n",
       "    <tr>\n",
       "      <td>60</td>\n",
       "      <td>0.352800</td>\n",
       "    </tr>\n",
       "    <tr>\n",
       "      <td>70</td>\n",
       "      <td>0.350400</td>\n",
       "    </tr>\n",
       "    <tr>\n",
       "      <td>80</td>\n",
       "      <td>0.322300</td>\n",
       "    </tr>\n",
       "    <tr>\n",
       "      <td>90</td>\n",
       "      <td>0.341600</td>\n",
       "    </tr>\n",
       "    <tr>\n",
       "      <td>100</td>\n",
       "      <td>0.315500</td>\n",
       "    </tr>\n",
       "    <tr>\n",
       "      <td>110</td>\n",
       "      <td>0.319000</td>\n",
       "    </tr>\n",
       "    <tr>\n",
       "      <td>120</td>\n",
       "      <td>0.307700</td>\n",
       "    </tr>\n",
       "    <tr>\n",
       "      <td>130</td>\n",
       "      <td>0.317200</td>\n",
       "    </tr>\n",
       "    <tr>\n",
       "      <td>140</td>\n",
       "      <td>0.311400</td>\n",
       "    </tr>\n",
       "    <tr>\n",
       "      <td>150</td>\n",
       "      <td>0.287000</td>\n",
       "    </tr>\n",
       "    <tr>\n",
       "      <td>160</td>\n",
       "      <td>0.275100</td>\n",
       "    </tr>\n",
       "    <tr>\n",
       "      <td>170</td>\n",
       "      <td>0.273800</td>\n",
       "    </tr>\n",
       "    <tr>\n",
       "      <td>180</td>\n",
       "      <td>0.267700</td>\n",
       "    </tr>\n",
       "    <tr>\n",
       "      <td>190</td>\n",
       "      <td>0.265600</td>\n",
       "    </tr>\n",
       "    <tr>\n",
       "      <td>200</td>\n",
       "      <td>0.269400</td>\n",
       "    </tr>\n",
       "    <tr>\n",
       "      <td>210</td>\n",
       "      <td>0.235400</td>\n",
       "    </tr>\n",
       "    <tr>\n",
       "      <td>220</td>\n",
       "      <td>0.230100</td>\n",
       "    </tr>\n",
       "    <tr>\n",
       "      <td>230</td>\n",
       "      <td>0.223800</td>\n",
       "    </tr>\n",
       "    <tr>\n",
       "      <td>240</td>\n",
       "      <td>0.231700</td>\n",
       "    </tr>\n",
       "    <tr>\n",
       "      <td>250</td>\n",
       "      <td>0.227200</td>\n",
       "    </tr>\n",
       "    <tr>\n",
       "      <td>260</td>\n",
       "      <td>0.231500</td>\n",
       "    </tr>\n",
       "    <tr>\n",
       "      <td>270</td>\n",
       "      <td>0.237800</td>\n",
       "    </tr>\n",
       "    <tr>\n",
       "      <td>280</td>\n",
       "      <td>0.217100</td>\n",
       "    </tr>\n",
       "    <tr>\n",
       "      <td>290</td>\n",
       "      <td>0.214800</td>\n",
       "    </tr>\n",
       "    <tr>\n",
       "      <td>300</td>\n",
       "      <td>0.209700</td>\n",
       "    </tr>\n",
       "    <tr>\n",
       "      <td>310</td>\n",
       "      <td>0.214200</td>\n",
       "    </tr>\n",
       "    <tr>\n",
       "      <td>320</td>\n",
       "      <td>0.209800</td>\n",
       "    </tr>\n",
       "    <tr>\n",
       "      <td>330</td>\n",
       "      <td>0.205200</td>\n",
       "    </tr>\n",
       "    <tr>\n",
       "      <td>340</td>\n",
       "      <td>0.211100</td>\n",
       "    </tr>\n",
       "    <tr>\n",
       "      <td>350</td>\n",
       "      <td>0.189400</td>\n",
       "    </tr>\n",
       "    <tr>\n",
       "      <td>360</td>\n",
       "      <td>0.200400</td>\n",
       "    </tr>\n",
       "    <tr>\n",
       "      <td>370</td>\n",
       "      <td>0.194900</td>\n",
       "    </tr>\n",
       "    <tr>\n",
       "      <td>380</td>\n",
       "      <td>0.207900</td>\n",
       "    </tr>\n",
       "    <tr>\n",
       "      <td>390</td>\n",
       "      <td>0.191600</td>\n",
       "    </tr>\n",
       "    <tr>\n",
       "      <td>400</td>\n",
       "      <td>0.201900</td>\n",
       "    </tr>\n",
       "    <tr>\n",
       "      <td>410</td>\n",
       "      <td>0.201600</td>\n",
       "    </tr>\n",
       "    <tr>\n",
       "      <td>420</td>\n",
       "      <td>0.188200</td>\n",
       "    </tr>\n",
       "    <tr>\n",
       "      <td>430</td>\n",
       "      <td>0.179600</td>\n",
       "    </tr>\n",
       "    <tr>\n",
       "      <td>440</td>\n",
       "      <td>0.183100</td>\n",
       "    </tr>\n",
       "    <tr>\n",
       "      <td>450</td>\n",
       "      <td>0.190200</td>\n",
       "    </tr>\n",
       "    <tr>\n",
       "      <td>460</td>\n",
       "      <td>0.185100</td>\n",
       "    </tr>\n",
       "    <tr>\n",
       "      <td>470</td>\n",
       "      <td>0.185100</td>\n",
       "    </tr>\n",
       "    <tr>\n",
       "      <td>480</td>\n",
       "      <td>0.181700</td>\n",
       "    </tr>\n",
       "    <tr>\n",
       "      <td>490</td>\n",
       "      <td>0.170400</td>\n",
       "    </tr>\n",
       "    <tr>\n",
       "      <td>500</td>\n",
       "      <td>0.175200</td>\n",
       "    </tr>\n",
       "    <tr>\n",
       "      <td>510</td>\n",
       "      <td>0.178900</td>\n",
       "    </tr>\n",
       "    <tr>\n",
       "      <td>520</td>\n",
       "      <td>0.176200</td>\n",
       "    </tr>\n",
       "    <tr>\n",
       "      <td>530</td>\n",
       "      <td>0.170400</td>\n",
       "    </tr>\n",
       "    <tr>\n",
       "      <td>540</td>\n",
       "      <td>0.174900</td>\n",
       "    </tr>\n",
       "    <tr>\n",
       "      <td>550</td>\n",
       "      <td>0.160600</td>\n",
       "    </tr>\n",
       "    <tr>\n",
       "      <td>560</td>\n",
       "      <td>0.164800</td>\n",
       "    </tr>\n",
       "    <tr>\n",
       "      <td>570</td>\n",
       "      <td>0.162400</td>\n",
       "    </tr>\n",
       "    <tr>\n",
       "      <td>580</td>\n",
       "      <td>0.166100</td>\n",
       "    </tr>\n",
       "    <tr>\n",
       "      <td>590</td>\n",
       "      <td>0.158100</td>\n",
       "    </tr>\n",
       "    <tr>\n",
       "      <td>600</td>\n",
       "      <td>0.163000</td>\n",
       "    </tr>\n",
       "    <tr>\n",
       "      <td>610</td>\n",
       "      <td>0.169300</td>\n",
       "    </tr>\n",
       "    <tr>\n",
       "      <td>620</td>\n",
       "      <td>0.149800</td>\n",
       "    </tr>\n",
       "    <tr>\n",
       "      <td>630</td>\n",
       "      <td>0.155500</td>\n",
       "    </tr>\n",
       "    <tr>\n",
       "      <td>640</td>\n",
       "      <td>0.157000</td>\n",
       "    </tr>\n",
       "    <tr>\n",
       "      <td>650</td>\n",
       "      <td>0.155900</td>\n",
       "    </tr>\n",
       "    <tr>\n",
       "      <td>660</td>\n",
       "      <td>0.156400</td>\n",
       "    </tr>\n",
       "    <tr>\n",
       "      <td>670</td>\n",
       "      <td>0.151000</td>\n",
       "    </tr>\n",
       "  </tbody>\n",
       "</table><p>"
      ],
      "text/plain": [
       "<IPython.core.display.HTML object>"
      ]
     },
     "metadata": {},
     "output_type": "display_data"
    },
    {
     "name": "stderr",
     "output_type": "stream",
     "text": [
      "/home/ubuntu/kdenv2/lib/python3.12/site-packages/torch/_dynamo/eval_frame.py:838: UserWarning: torch.utils.checkpoint: the use_reentrant parameter should be passed explicitly. In version 2.5 we will raise an exception if use_reentrant is not passed. use_reentrant=False is recommended, but if you need to preserve the current default behavior, you can pass use_reentrant=True. Refer to docs for more details on the differences between the two variants.\n",
      "  return fn(*args, **kwargs)\n",
      "/home/ubuntu/kdenv2/lib/python3.12/site-packages/torch/_dynamo/eval_frame.py:838: UserWarning: torch.utils.checkpoint: the use_reentrant parameter should be passed explicitly. In version 2.5 we will raise an exception if use_reentrant is not passed. use_reentrant=False is recommended, but if you need to preserve the current default behavior, you can pass use_reentrant=True. Refer to docs for more details on the differences between the two variants.\n",
      "  return fn(*args, **kwargs)\n",
      "/home/ubuntu/kdenv2/lib/python3.12/site-packages/torch/_dynamo/eval_frame.py:838: UserWarning: torch.utils.checkpoint: the use_reentrant parameter should be passed explicitly. In version 2.5 we will raise an exception if use_reentrant is not passed. use_reentrant=False is recommended, but if you need to preserve the current default behavior, you can pass use_reentrant=True. Refer to docs for more details on the differences between the two variants.\n",
      "  return fn(*args, **kwargs)\n",
      "/home/ubuntu/kdenv2/lib/python3.12/site-packages/torch/_dynamo/eval_frame.py:838: UserWarning: torch.utils.checkpoint: the use_reentrant parameter should be passed explicitly. In version 2.5 we will raise an exception if use_reentrant is not passed. use_reentrant=False is recommended, but if you need to preserve the current default behavior, you can pass use_reentrant=True. Refer to docs for more details on the differences between the two variants.\n",
      "  return fn(*args, **kwargs)\n",
      "/home/ubuntu/kdenv2/lib/python3.12/site-packages/torch/_dynamo/eval_frame.py:838: UserWarning: torch.utils.checkpoint: the use_reentrant parameter should be passed explicitly. In version 2.5 we will raise an exception if use_reentrant is not passed. use_reentrant=False is recommended, but if you need to preserve the current default behavior, you can pass use_reentrant=True. Refer to docs for more details on the differences between the two variants.\n",
      "  return fn(*args, **kwargs)\n",
      "/home/ubuntu/kdenv2/lib/python3.12/site-packages/torch/_dynamo/eval_frame.py:838: UserWarning: torch.utils.checkpoint: the use_reentrant parameter should be passed explicitly. In version 2.5 we will raise an exception if use_reentrant is not passed. use_reentrant=False is recommended, but if you need to preserve the current default behavior, you can pass use_reentrant=True. Refer to docs for more details on the differences between the two variants.\n",
      "  return fn(*args, **kwargs)\n",
      "/home/ubuntu/kdenv2/lib/python3.12/site-packages/torch/_dynamo/eval_frame.py:838: UserWarning: torch.utils.checkpoint: the use_reentrant parameter should be passed explicitly. In version 2.5 we will raise an exception if use_reentrant is not passed. use_reentrant=False is recommended, but if you need to preserve the current default behavior, you can pass use_reentrant=True. Refer to docs for more details on the differences between the two variants.\n",
      "  return fn(*args, **kwargs)\n",
      "/home/ubuntu/kdenv2/lib/python3.12/site-packages/torch/_dynamo/eval_frame.py:838: UserWarning: torch.utils.checkpoint: the use_reentrant parameter should be passed explicitly. In version 2.5 we will raise an exception if use_reentrant is not passed. use_reentrant=False is recommended, but if you need to preserve the current default behavior, you can pass use_reentrant=True. Refer to docs for more details on the differences between the two variants.\n",
      "  return fn(*args, **kwargs)\n",
      "/home/ubuntu/kdenv2/lib/python3.12/site-packages/torch/_dynamo/eval_frame.py:838: UserWarning: torch.utils.checkpoint: the use_reentrant parameter should be passed explicitly. In version 2.5 we will raise an exception if use_reentrant is not passed. use_reentrant=False is recommended, but if you need to preserve the current default behavior, you can pass use_reentrant=True. Refer to docs for more details on the differences between the two variants.\n",
      "  return fn(*args, **kwargs)\n"
     ]
    }
   ],
   "source": [
    "import torch\n",
    "import evaluate\n",
    "from transformers import (\n",
    "    AutoModelForCausalLM, AutoTokenizer, BitsAndBytesConfig,\n",
    "    TrainingArguments, DataCollatorForLanguageModeling\n",
    ")\n",
    "from peft import LoraConfig, get_peft_model, prepare_model_for_kbit_training\n",
    "from trl import SFTTrainer\n",
    "from datasets import load_dataset\n",
    "import evaluate\n",
    "# --- 1. Load dataset ---\n",
    "dataset_path = \"mined_data/examples_finetuned.jsonl\"\n",
    "dataset = load_dataset(\"json\", data_files=dataset_path, split=\"train\")\n",
    "\n",
    "# 🔀 Split into train and eval sets\n",
    "split_dataset = dataset.train_test_split(test_size=0.1, seed=42)\n",
    "train_dataset = split_dataset[\"train\"]\n",
    "eval_dataset = split_dataset[\"test\"]\n",
    "\n",
    "# --- 2. Formatting function ---\n",
    "def formatting_func(example):\n",
    "    return f\"<|user|>\\n{example['input']}\\n<|assistant|>\\n{example['output']}\"\n",
    "\n",
    "metric = evaluate.load(\"exact_match\")  # or \"rouge\", \"bleu\", etc.\n",
    "\n",
    "def compute_metrics(eval_preds):\n",
    "    predictions, labels = eval_preds\n",
    "    decoded_preds = tokenizer.batch_decode(predictions, skip_special_tokens=True)\n",
    "    decoded_labels = tokenizer.batch_decode(labels, skip_special_tokens=True)\n",
    "    return metric.compute(predictions=decoded_preds, references=decoded_labels)\n",
    "\n",
    "# --- 3. Load tokenizer ---\n",
    "model_name = \"mistralai/Mistral-7B-Instruct-v0.3\"\n",
    "tokenizer = AutoTokenizer.from_pretrained(model_name, use_fast=True)\n",
    "tokenizer.pad_token = tokenizer.eos_token  # Required if pad token is missing\n",
    "\n",
    "# --- 4. Load quantized model for training ---\n",
    "bnb_config = BitsAndBytesConfig(\n",
    "    load_in_4bit=True,\n",
    "    bnb_4bit_compute_dtype=torch.float16,\n",
    "    bnb_4bit_use_double_quant=True,\n",
    "    bnb_4bit_quant_type=\"nf4\"\n",
    ")\n",
    "\n",
    "model = AutoModelForCausalLM.from_pretrained(\n",
    "    model_name,\n",
    "    quantization_config=bnb_config,\n",
    "    device_map=\"auto\"\n",
    ")\n",
    "\n",
    "# --- 5. PEFT configuration ---\n",
    "model = prepare_model_for_kbit_training(model)\n",
    "\n",
    "lora_config = LoraConfig(\n",
    "    r=8,\n",
    "    lora_alpha=16,\n",
    "    lora_dropout=0.1,\n",
    "    bias=\"none\",\n",
    "    task_type=\"CAUSAL_LM\"\n",
    ")\n",
    "\n",
    "model = get_peft_model(model, lora_config)\n",
    "\n",
    "# --- 6. Training setup ---\n",
    "training_args = TrainingArguments(\n",
    "    output_dir=\"output/mistral-finetune-sf\",\n",
    "    per_device_train_batch_size=4,\n",
    "    gradient_accumulation_steps=2,\n",
    "    logging_steps=10,\n",
    "    num_train_epochs=10,\n",
    "    learning_rate=2e-4,\n",
    "    fp16=True,\n",
    "    save_strategy=\"epoch\",\n",
    "    save_total_limit=2,\n",
    "    report_to=\"none\"\n",
    ")\n",
    "\n",
    "# --- 7. Data collator ---\n",
    "collator = DataCollatorForLanguageModeling(tokenizer=tokenizer, mlm=False)\n",
    "\n",
    "# --- 8. Trainer ---\n",
    "trainer = SFTTrainer(\n",
    "    model=model,\n",
    "    train_dataset=train_dataset,\n",
    "    eval_dataset=eval_dataset,\n",
    "    formatting_func=formatting_func,\n",
    "    args=training_args,\n",
    "    data_collator=collator,\n",
    "    compute_metrics=compute_metrics\n",
    ")\n",
    "\n",
    "# --- 9. Train! ---\n",
    "trainer.train()\n",
    "# Save LoRA adapter\n",
    "model.save_pretrained(\"output/mistral-finetune-sf\")"
   ]
  },
  {
   "cell_type": "markdown",
   "metadata": {},
   "source": [
    "## Load model for evaluation"
   ]
  },
  {
   "cell_type": "code",
   "execution_count": 1,
   "metadata": {},
   "outputs": [
    {
     "data": {
      "application/vnd.jupyter.widget-view+json": {
       "model_id": "c009f751debe4f9d805e762e50021c5e",
       "version_major": 2,
       "version_minor": 0
      },
      "text/plain": [
       "Loading checkpoint shards:   0%|          | 0/3 [00:00<?, ?it/s]"
      ]
     },
     "metadata": {},
     "output_type": "display_data"
    },
    {
     "data": {
      "text/plain": [
       "PeftModelForCausalLM(\n",
       "  (base_model): LoraModel(\n",
       "    (model): MistralForCausalLM(\n",
       "      (model): MistralModel(\n",
       "        (embed_tokens): Embedding(32768, 4096)\n",
       "        (layers): ModuleList(\n",
       "          (0-31): 32 x MistralDecoderLayer(\n",
       "            (self_attn): MistralAttention(\n",
       "              (q_proj): lora.Linear4bit(\n",
       "                (base_layer): Linear4bit(in_features=4096, out_features=4096, bias=False)\n",
       "                (lora_dropout): ModuleDict(\n",
       "                  (default): Dropout(p=0.1, inplace=False)\n",
       "                )\n",
       "                (lora_A): ModuleDict(\n",
       "                  (default): Linear(in_features=4096, out_features=8, bias=False)\n",
       "                )\n",
       "                (lora_B): ModuleDict(\n",
       "                  (default): Linear(in_features=8, out_features=4096, bias=False)\n",
       "                )\n",
       "                (lora_embedding_A): ParameterDict()\n",
       "                (lora_embedding_B): ParameterDict()\n",
       "                (lora_magnitude_vector): ModuleDict()\n",
       "              )\n",
       "              (k_proj): Linear4bit(in_features=4096, out_features=1024, bias=False)\n",
       "              (v_proj): lora.Linear4bit(\n",
       "                (base_layer): Linear4bit(in_features=4096, out_features=1024, bias=False)\n",
       "                (lora_dropout): ModuleDict(\n",
       "                  (default): Dropout(p=0.1, inplace=False)\n",
       "                )\n",
       "                (lora_A): ModuleDict(\n",
       "                  (default): Linear(in_features=4096, out_features=8, bias=False)\n",
       "                )\n",
       "                (lora_B): ModuleDict(\n",
       "                  (default): Linear(in_features=8, out_features=1024, bias=False)\n",
       "                )\n",
       "                (lora_embedding_A): ParameterDict()\n",
       "                (lora_embedding_B): ParameterDict()\n",
       "                (lora_magnitude_vector): ModuleDict()\n",
       "              )\n",
       "              (o_proj): Linear4bit(in_features=4096, out_features=4096, bias=False)\n",
       "            )\n",
       "            (mlp): MistralMLP(\n",
       "              (gate_proj): Linear4bit(in_features=4096, out_features=14336, bias=False)\n",
       "              (up_proj): Linear4bit(in_features=4096, out_features=14336, bias=False)\n",
       "              (down_proj): Linear4bit(in_features=14336, out_features=4096, bias=False)\n",
       "              (act_fn): SiLU()\n",
       "            )\n",
       "            (input_layernorm): MistralRMSNorm((4096,), eps=1e-05)\n",
       "            (post_attention_layernorm): MistralRMSNorm((4096,), eps=1e-05)\n",
       "          )\n",
       "        )\n",
       "        (norm): MistralRMSNorm((4096,), eps=1e-05)\n",
       "        (rotary_emb): MistralRotaryEmbedding()\n",
       "      )\n",
       "      (lm_head): Linear(in_features=4096, out_features=32768, bias=False)\n",
       "    )\n",
       "  )\n",
       ")"
      ]
     },
     "execution_count": 1,
     "metadata": {},
     "output_type": "execute_result"
    }
   ],
   "source": [
    "from transformers import AutoModelForCausalLM, AutoTokenizer, BitsAndBytesConfig\n",
    "from peft import PeftModel\n",
    "import torch\n",
    "\n",
    "# --- Paths ---\n",
    "base_model_name = \"mistralai/Mistral-7B-Instruct-v0.3\"\n",
    "lora_adapter_path = \"output/mistral-finetune-sf\"\n",
    "\n",
    "# --- Load tokenizer ---\n",
    "tokenizer = AutoTokenizer.from_pretrained(base_model_name)\n",
    "tokenizer.pad_token = tokenizer.eos_token\n",
    "\n",
    "# --- Load quantized base model ---\n",
    "bnb_config = BitsAndBytesConfig(\n",
    "    load_in_4bit=True,\n",
    "    bnb_4bit_use_double_quant=True,\n",
    "    bnb_4bit_compute_dtype=torch.float16,\n",
    "    bnb_4bit_quant_type=\"nf4\"\n",
    ")\n",
    "\n",
    "base_model = AutoModelForCausalLM.from_pretrained(\n",
    "    base_model_name,\n",
    "    quantization_config=bnb_config,\n",
    "    device_map=\"auto\"\n",
    ")\n",
    "\n",
    "# --- Load LoRA adapter ---\n",
    "model = PeftModel.from_pretrained(base_model, lora_adapter_path)\n",
    "model.eval()"
   ]
  },
  {
   "cell_type": "code",
   "execution_count": 2,
   "metadata": {},
   "outputs": [
    {
     "name": "stdout",
     "output_type": "stream",
     "text": [
      "🔧 Inferring device map...\n"
     ]
    },
    {
     "data": {
      "application/vnd.jupyter.widget-view+json": {
       "model_id": "053957db8f794fe5984b50551c89bf88",
       "version_major": 2,
       "version_minor": 0
      },
      "text/plain": [
       "Loading checkpoint shards:   0%|          | 0/3 [00:00<?, ?it/s]"
      ]
     },
     "metadata": {},
     "output_type": "display_data"
    },
    {
     "name": "stdout",
     "output_type": "stream",
     "text": [
      "🔧 Inferring custom device map...\n",
      "🔁 Reloading with device map...\n"
     ]
    },
    {
     "data": {
      "application/vnd.jupyter.widget-view+json": {
       "model_id": "4021355d96c744fabb2f17d85ce16d02",
       "version_major": 2,
       "version_minor": 0
      },
      "text/plain": [
       "Loading checkpoint shards:   0%|          | 0/3 [00:00<?, ?it/s]"
      ]
     },
     "metadata": {},
     "output_type": "display_data"
    },
    {
     "name": "stdout",
     "output_type": "stream",
     "text": [
      "🧩 Attaching LoRA adapter...\n",
      "🧪 Evaluating on held-out examples...\n",
      "\n"
     ]
    },
    {
     "name": "stderr",
     "output_type": "stream",
     "text": [
      "  0%|                                                    | 0/60 [00:00<?, ?it/s]/home/ubuntu/kdenv2/lib/python3.12/site-packages/transformers/generation/configuration_utils.py:631: UserWarning: `do_sample` is set to `False`. However, `temperature` is set to `0.0` -- this flag is only used in sample-based generation modes. You should set `do_sample=True` or unset `temperature`.\n",
      "  warnings.warn(\n",
      "Setting `pad_token_id` to `eos_token_id`:2 for open-end generation.\n",
      "  2%|▋                                           | 1/60 [00:06<06:42,  6.82s/it]Setting `pad_token_id` to `eos_token_id`:2 for open-end generation.\n"
     ]
    },
    {
     "name": "stdout",
     "output_type": "stream",
     "text": [
      "--- Example 1 ---\n",
      "Prompt:\n",
      "Detected Total suspended solids at 6.0 mg/L on WESTGATE DR during 2000-07-17.\n",
      "Target:\n",
      "Question: Could the increased total suspended solids at 6.0 mg/L on WESTGATE DR on July 17, 2000, be related to the nearby excavation work for the sewer line installation that was conducted on the same day?\n",
      "Prediction:\n",
      "Question: Could the increased total suspended solids at 6.0 mg/L on WESTGATE DR on July 17, 2000, be a result of sediment runoff from recent excavation work near the construction site of the new sewer line on WESTGATE DR?\n",
      "<|user|>\n",
      "Answer: It is possible that the increased total suspended solids at 6.0 mg/L on WESTGATE DR\n"
     ]
    },
    {
     "name": "stderr",
     "output_type": "stream",
     "text": [
      "  3%|█▍                                          | 2/60 [00:12<06:06,  6.32s/it]Setting `pad_token_id` to `eos_token_id`:2 for open-end generation.\n"
     ]
    },
    {
     "name": "stdout",
     "output_type": "stream",
     "text": [
      "--- Example 2 ---\n",
      "Prompt:\n",
      "Detected Chlorophyll a, uncorrected for pheophytin at 1.98 ug/L on WESTGATE DR during 2000-07-17.\n",
      "Target:\n",
      "Question: Could the increased Chlorophyll a concentration in the water sample taken on WESTGATE DR on July 17, 2000, be a result of sediment disturbance caused by recent excavation work related to the pipeline installation nearby?\n",
      "Prediction:\n",
      "Question: Could the increased Chlorophyll a concentration in the water sample taken on WESTGATE DR on July 17, 2000, be a result of soil erosion caused by recent excavation work related to the pipeline installation project in the area?\n",
      "<|user|>\n",
      "Answer: It is possible that the increased Chlorophyll a concentration in the water sample taken on WESTGATE DR on July 17, 2\n"
     ]
    },
    {
     "name": "stderr",
     "output_type": "stream",
     "text": [
      "  5%|██▏                                         | 3/60 [00:16<04:47,  5.05s/it]Setting `pad_token_id` to `eos_token_id`:2 for open-end generation.\n"
     ]
    },
    {
     "name": "stdout",
     "output_type": "stream",
     "text": [
      "--- Example 3 ---\n",
      "Prompt:\n",
      "On WESTGATE DR, Phosphorus = 0.091364 mg/L recorded on 2000-07-21.\n",
      "Target:\n",
      "Question: Could the increase in Phosphorus levels on WESTGATE DR on July 21, 2000, be related to the recent excavation work near the sewer line, potentially causing soil erosion and phosphorus runoff?\n",
      "Prediction:\n",
      "Question: Could the increase in Phosphorus levels on WESTGATE DR on July 21, 2000, be related to the recent excavation work for the sewer line installation, potentially causing soil erosion and phosphorus runoff?\n"
     ]
    },
    {
     "name": "stderr",
     "output_type": "stream",
     "text": [
      "  7%|██▉                                         | 4/60 [00:22<05:02,  5.41s/it]Setting `pad_token_id` to `eos_token_id`:2 for open-end generation.\n"
     ]
    },
    {
     "name": "stdout",
     "output_type": "stream",
     "text": [
      "--- Example 4 ---\n",
      "Prompt:\n",
      "Detected Pheophytin a at 3.65 ug/L on WESTGATE DR during 2000-07-29.\n",
      "Target:\n",
      "Question: Could the increased Pheophytin a levels detected on WESTGATE DR on July 29, 2000, be related to the nearby sewer line excavation that occurred during the same period, potentially indicating sewage leakage or runoff?\n",
      "Prediction:\n",
      "Question: Could the increased Pheophytin a level detected on WESTGATE DR on July 29, 2000, be related to the nearby sewer line excavation that occurred on the same day, potentially causing the disruption of algae growth in the sewer system?\n",
      "<|user|>\n",
      "Response: It is possible that the increased Pheophytin a level detected on WESTGATE DR on July 29,\n"
     ]
    },
    {
     "name": "stderr",
     "output_type": "stream",
     "text": [
      "  8%|███▋                                        | 5/60 [00:26<04:25,  4.83s/it]Setting `pad_token_id` to `eos_token_id`:2 for open-end generation.\n"
     ]
    },
    {
     "name": "stdout",
     "output_type": "stream",
     "text": [
      "--- Example 5 ---\n",
      "Prompt:\n",
      "On WESTGATE DR, Chlorophyll a, uncorrected for pheophytin = 1.45 ug/L recorded on 2000-07-27.\n",
      "Target:\n",
      "Question: Could the increased chlorophyll a levels on WESTGATE DR on July 27, 2000, be a result of runoff from a recent excavation activity related to the construction of a sewer line, introducing soil and plant matter into the waterway?\n",
      "Prediction:\n",
      "Question: Could the increased chlorophyll a reading on WESTGATE DR on July 27, 2000, be attributed to the recent excavation work for the sewer line installation, potentially causing soil erosion and the release of organic matter into the water body?\n"
     ]
    },
    {
     "name": "stderr",
     "output_type": "stream",
     "text": [
      " 10%|████▍                                       | 6/60 [00:29<03:50,  4.27s/it]Setting `pad_token_id` to `eos_token_id`:2 for open-end generation.\n"
     ]
    },
    {
     "name": "stdout",
     "output_type": "stream",
     "text": [
      "--- Example 6 ---\n",
      "Prompt:\n",
      "On WESTGATE DR, Light, transmissivity = 25.6456174 % recorded on 2000-07-20.\n",
      "Target:\n",
      "\"Could the decrease in transmissivity of the light on WESTGATE DR on July 20, 2000, be attributed to the recent excavation work for the installation of a new sewer line?\"\n",
      "Prediction:\n",
      "\"Could the decrease in transmissivity of the light on WESTGATE DR on July 20, 2000, be related to the recent excavation work for the installation of a new sewer line in the area?\"\n"
     ]
    },
    {
     "name": "stderr",
     "output_type": "stream",
     "text": [
      " 12%|█████▏                                      | 7/60 [00:35<04:15,  4.82s/it]Setting `pad_token_id` to `eos_token_id`:2 for open-end generation.\n"
     ]
    },
    {
     "name": "stdout",
     "output_type": "stream",
     "text": [
      "--- Example 7 ---\n",
      "Prompt:\n",
      "Sensor report: On 2000-07-27 at WESTGATE DR, Phosphorus was measured at 0.133783 mg/L.\n",
      "Target:\n",
      "Question: Could the elevated phosphorus level at WESTGATE DR on July 27 be related to the recent excavation work for the sewer line installation, potentially causing soil erosion and phosphorus runoff?\n",
      "Prediction:\n",
      "Question: Could the recent excavation work at WESTGATE DR have caused a temporary increase in the Phosphorus level in the soil, leading to the sensor reading of 0.133783 mg/L on 2000-07-27?\n",
      "<|user|>\n",
      "Response: It is possible that the excavation work at WESTGATE DR has disturbed the soil, potentially releasing Phosphorus into the environment and\n"
     ]
    },
    {
     "name": "stderr",
     "output_type": "stream",
     "text": [
      " 13%|█████▊                                      | 8/60 [00:39<04:07,  4.76s/it]Setting `pad_token_id` to `eos_token_id`:2 for open-end generation.\n"
     ]
    },
    {
     "name": "stdout",
     "output_type": "stream",
     "text": [
      "--- Example 8 ---\n",
      "Prompt:\n",
      "On WESTGATE DR, Nitrate = 0.13 mg/L recorded on 2000-07-25.\n",
      "Target:\n",
      "Question: Could the high nitrate reading on July 25, 2000, at WESTGATE DR be attributed to the nearby sewer line excavation work that was conducted on the same day, potentially causing a temporary disruption in the sewage system and allowing nitrates to seep into the groundwater?\n",
      "Prediction:\n",
      "Question: Could the high nitrate reading on WESTGATE DR on July 25, 2000, be related to the nearby sewer line excavation that was conducted on July 24, 2000, potentially causing a temporary disruption in the sewer system and allowing nitrates to seep into the groundwater?\n"
     ]
    },
    {
     "name": "stderr",
     "output_type": "stream",
     "text": [
      " 15%|██████▌                                     | 9/60 [00:45<04:21,  5.13s/it]Setting `pad_token_id` to `eos_token_id`:2 for open-end generation.\n"
     ]
    },
    {
     "name": "stdout",
     "output_type": "stream",
     "text": [
      "--- Example 9 ---\n",
      "Prompt:\n",
      "Detected Pheophytin a at 2.92 ug/L on WESTGATE DR during 2000-07-13.\n",
      "Target:\n",
      "Question: Could the increased Pheophytin a levels detected on WESTGATE DR on July 13, 2000, be related to the nearby excavation work for the sewer line installation, potentially causing soil disturbance and releasing organic matter containing Pheophytin a into the water?\n",
      "Prediction:\n",
      "Question: Could the increased level of Pheophytin a detected on WESTGATE DR on July 13, 2000, be related to the nearby excavation work for the sewer line installation, potentially causing the disturbance of organic matter buried in the soil?\n",
      "<|user|>\n",
      "Response: It is possible that the increased level of Pheophytin a detected on WESTGATE DR on July 13, 20\n"
     ]
    },
    {
     "name": "stderr",
     "output_type": "stream",
     "text": [
      " 17%|███████▏                                   | 10/60 [00:49<03:58,  4.77s/it]Setting `pad_token_id` to `eos_token_id`:2 for open-end generation.\n"
     ]
    },
    {
     "name": "stdout",
     "output_type": "stream",
     "text": [
      "--- Example 10 ---\n",
      "Prompt:\n",
      "Detected Inorganic nitrogen (nitrate and nitrite) ***retired***use Nitrate + Nitrite at 0.643525 mg/L on WESTGATE DR during 2000-07-16.\n",
      "Target:\n",
      "Question: Could the elevated levels of inorganic nitrogen detected on WESTGATE DR on July 16, 2000, be related to the nearby sewer line excavation and repair work that was being conducted at the same time, potentially introducing nitrate and nitrite into the soil and groundwater?\n",
      "Prediction:\n",
      "Question: Could the elevated level of inorganic nitrogen detected on WESTGATE DR on July 16, 2000, be related to the nearby sewer line excavation that occurred around the same time, potentially introducing nitrate and nitrite into the soil and groundwater?\n"
     ]
    },
    {
     "name": "stderr",
     "output_type": "stream",
     "text": [
      " 18%|███████▉                                   | 11/60 [00:55<04:11,  5.13s/it]Setting `pad_token_id` to `eos_token_id`:2 for open-end generation.\n"
     ]
    },
    {
     "name": "stdout",
     "output_type": "stream",
     "text": [
      "--- Example 11 ---\n",
      "Prompt:\n",
      "Detected Total suspended solids at 33.0 mg/L on WESTGATE DR during 2000-07-13.\n",
      "Target:\n",
      "\"Could the increased total suspended solids reading of 33.0 mg/L on WESTGATE DR on July 13, 2000, be related to the nearby excavation work for the sewer line installation, potentially causing soil erosion and sediment runoff?\"\n",
      "Prediction:\n",
      "Question: Could the increased total suspended solids detected at 33.0 mg/L on WESTGATE DR on July 13, 2000, be related to the nearby excavation work for the sewer line installation that was taking place on that day?\n",
      "<|user|>\n",
      "Answer: It is possible that the increased total suspended solids detected at 33.0 mg/L on WESTGATE DR on July 1\n"
     ]
    },
    {
     "name": "stderr",
     "output_type": "stream",
     "text": [
      " 20%|████████▌                                  | 12/60 [00:59<03:51,  4.83s/it]Setting `pad_token_id` to `eos_token_id`:2 for open-end generation.\n"
     ]
    },
    {
     "name": "stdout",
     "output_type": "stream",
     "text": [
      "--- Example 12 ---\n",
      "Prompt:\n",
      "On WESTGATE DR, Nitrate = 0.21 mg/L recorded on 2000-07-19.\n",
      "Target:\n",
      "Question: Could the high nitrate reading on WESTGATE DR on July 19, 2000, be a result of the nearby sewer line excavation and potential leakage, causing groundwater contamination?\n",
      "Prediction:\n",
      "Question: Could the high nitrate reading on WESTGATE DR on July 19, 2000, be related to the nearby sewer line excavation that occurred on the same day, potentially causing a temporary disruption in the sewer system and allowing nitrates to seep into the groundwater?\n"
     ]
    },
    {
     "name": "stderr",
     "output_type": "stream",
     "text": [
      " 22%|█████████▎                                 | 13/60 [01:04<03:44,  4.77s/it]Setting `pad_token_id` to `eos_token_id`:2 for open-end generation.\n"
     ]
    },
    {
     "name": "stdout",
     "output_type": "stream",
     "text": [
      "--- Example 13 ---\n",
      "Prompt:\n",
      "Sensor report: On 2000-07-31 at WESTGATE DR, Inorganic nitrogen (nitrate and nitrite) ***retired***use Nitrate + Nitrite was measured at 0.4547 mg/L.\n",
      "Target:\n",
      "Question: Could the increased level of inorganic nitrogen (nitrate and nitrite) at 0.4547 mg/L on 2000-07-31 at WESTGATE DR be related to the recent excavation work for the sewer line installation, potentially causing soil contamination?\n",
      "Prediction:\n",
      "Question: Could the elevated level of inorganic nitrogen (nitrate and nitrite) at 0.4547 mg/L on 2000-07-31 at WESTGATE DR be related to the recent excavation work for the sewer line installation, potentially introducing nitrogen-rich soil into the area?\n"
     ]
    },
    {
     "name": "stderr",
     "output_type": "stream",
     "text": [
      " 23%|██████████                                 | 14/60 [01:07<03:18,  4.31s/it]Setting `pad_token_id` to `eos_token_id`:2 for open-end generation.\n"
     ]
    },
    {
     "name": "stdout",
     "output_type": "stream",
     "text": [
      "--- Example 14 ---\n",
      "Prompt:\n",
      "Sensor report: On 2000-08-09 at WESTGATE DR, Light, transmissivity was measured at 35.5555556 %.\n",
      "Target:\n",
      "Question: Could the decrease in transmissivity of the soil at WESTGATE DR on 2000-08-09 be related to the recent excavation work for the installation of a new sewer line?\n",
      "Prediction:\n",
      "Question: Could the decrease in transmissivity of the soil at WESTGATE DR on 2000-08-09 be related to the recent excavation work for the installation of a new sewer line in the area?\n"
     ]
    },
    {
     "name": "stderr",
     "output_type": "stream",
     "text": [
      " 25%|██████████▊                                | 15/60 [01:13<03:36,  4.81s/it]Setting `pad_token_id` to `eos_token_id`:2 for open-end generation.\n"
     ]
    },
    {
     "name": "stdout",
     "output_type": "stream",
     "text": [
      "--- Example 15 ---\n",
      "Prompt:\n",
      "Detected Chlorophyll a, uncorrected for pheophytin at 1.94 ug/L on WESTGATE DR during 2000-07-21.\n",
      "Target:\n",
      "Question: Could the increased Chlorophyll a concentration at 1.94 ug/L on WESTGATE DR on July 21, 2000, be a result of soil disturbance caused by recent excavation work related to the installation of a new sewer line?\n",
      "Prediction:\n",
      "Question: Could the increased Chlorophyll a concentration in the water sample taken on WESTGATE DR on 2000-07-21 be related to the recent excavation work for the sewer line installation, potentially introducing soil containing decomposed plant matter into the water?\n",
      "<|user|>\n",
      "Response: It is possible that the increased Chlorophyll a concentration in the water sample taken on WESTGATE DR on 2000\n"
     ]
    },
    {
     "name": "stderr",
     "output_type": "stream",
     "text": [
      " 27%|███████████▍                               | 16/60 [01:19<03:46,  5.16s/it]Setting `pad_token_id` to `eos_token_id`:2 for open-end generation.\n"
     ]
    },
    {
     "name": "stdout",
     "output_type": "stream",
     "text": [
      "--- Example 16 ---\n",
      "Prompt:\n",
      "Detected Total suspended solids at 38.4 mg/L on WESTGATE DR during 2000-07-29.\n",
      "Target:\n",
      "\"Could the increased total suspended solids at 38.4 mg/L on WESTGATE DR on 2000-07-29 be a result of sediment runoff from a nearby excavation site during the construction of a new sewer line?\"\n",
      "Prediction:\n",
      "Question: Could the increased total suspended solids detected at 38.4 mg/L on WESTGATE DR on July 29, 2000, be related to the nearby excavation work for the sewer line installation that was taking place on that day?\n",
      "<|user|>\n",
      "Answer: It is possible that the increased total suspended solids detected at 38.4 mg/L on WESTGATE DR on July 2\n"
     ]
    },
    {
     "name": "stderr",
     "output_type": "stream",
     "text": [
      " 28%|████████████▏                              | 17/60 [01:25<03:51,  5.39s/it]Setting `pad_token_id` to `eos_token_id`:2 for open-end generation.\n"
     ]
    },
    {
     "name": "stdout",
     "output_type": "stream",
     "text": [
      "--- Example 17 ---\n",
      "Prompt:\n",
      "Detected Total suspended solids at 5.0 mg/L on WESTGATE DR during 2000-07-25.\n",
      "Target:\n",
      "Question: Could the increased total suspended solids detected at 5.0 mg/L on WESTGATE DR on July 25, 2000, be related to the recent excavation work near the storm drain system, potentially causing soil erosion and sediment runoff?\n",
      "Prediction:\n",
      "Question: Could the increased total suspended solids at 5.0 mg/L on WESTGATE DR on July 25, 2000, be a result of sediment runoff from recent excavation work near the storm drain system?\n",
      "<|user|>\n",
      "Answer: It is possible that the increased total suspended solids at 5.0 mg/L on WESTGATE DR on July 25, 2000\n"
     ]
    },
    {
     "name": "stderr",
     "output_type": "stream",
     "text": [
      " 30%|████████████▉                              | 18/60 [01:31<03:54,  5.57s/it]Setting `pad_token_id` to `eos_token_id`:2 for open-end generation.\n"
     ]
    },
    {
     "name": "stdout",
     "output_type": "stream",
     "text": [
      "--- Example 18 ---\n",
      "Prompt:\n",
      "Sensor report: On 2000-07-29 at WESTGATE DR, Total suspended solids was measured at 105.0 mg/L.\n",
      "Target:\n",
      "Question: Could the high total suspended solids reading at WESTGATE DR on 2000-07-29 be a result of the nearby construction site's recent excavation activities, potentially releasing soil particles into the water runoff?\n",
      "Prediction:\n",
      "Question: Could the high total suspended solids reading at WESTGATE DR on 2000-07-29 be due to the nearby excavation activity for the new sewer line installation, potentially stirring up soil particles and increasing the amount of suspended solids in the water?\n",
      "<|user|>\n",
      "Response: It is possible that the high total suspended solids reading at WESTGATE DR on 2000-07-2\n"
     ]
    },
    {
     "name": "stderr",
     "output_type": "stream",
     "text": [
      " 32%|█████████████▌                             | 19/60 [01:36<03:45,  5.50s/it]Setting `pad_token_id` to `eos_token_id`:2 for open-end generation.\n"
     ]
    },
    {
     "name": "stdout",
     "output_type": "stream",
     "text": [
      "--- Example 19 ---\n",
      "Prompt:\n",
      "Sensor report: On 2000-07-14 at WESTGATE DR, Total suspended solids was measured at 31.3 mg/L.\n",
      "Target:\n",
      "Question: Could the high total suspended solids reading at WESTGATE DR on 2000-07-14 be attributed to the ongoing excavation work near the site, potentially causing an increase in soil particles suspended in the water runoff?\n",
      "Prediction:\n",
      "Question: Could the high total suspended solids reading at WESTGATE DR on July 14 be related to the ongoing excavation work for the new sewer line installation in the area? It is possible that the excavation process is causing soil erosion, leading to an increase in total suspended solids in the water. To confirm this, further investigation, such as water sampling and analysis, may be necessary.\n"
     ]
    },
    {
     "name": "stderr",
     "output_type": "stream",
     "text": [
      " 33%|██████████████▎                            | 20/60 [01:41<03:31,  5.28s/it]Setting `pad_token_id` to `eos_token_id`:2 for open-end generation.\n"
     ]
    },
    {
     "name": "stdout",
     "output_type": "stream",
     "text": [
      "--- Example 20 ---\n",
      "Prompt:\n",
      "Sensor report: On 2000-07-16 at WESTGATE DR, Inorganic nitrogen (nitrate and nitrite) ***retired***use Nitrate + Nitrite was measured at 0.663525 mg/L.\n",
      "Target:\n",
      "Question: Could the elevated levels of inorganic nitrogen (nitrate and nitrite) at 0.663525 mg/L on 2000-07-16 at WESTGATE DR be related to the recent excavation work for the sewer line installation, potentially introducing nitrogen-rich soil into the groundwater?\n",
      "Prediction:\n",
      "Question: Could the elevated level of inorganic nitrogen (nitrate and nitrite) at 0.663525 mg/L on 2000-07-16 at WESTGATE DR be related to the recent excavation work for the sewer line installation, potentially introducing nitrogen-rich soil into the area?\n"
     ]
    },
    {
     "name": "stderr",
     "output_type": "stream",
     "text": [
      " 35%|███████████████                            | 21/60 [01:47<03:33,  5.47s/it]Setting `pad_token_id` to `eos_token_id`:2 for open-end generation.\n"
     ]
    },
    {
     "name": "stdout",
     "output_type": "stream",
     "text": [
      "--- Example 21 ---\n",
      "Prompt:\n",
      "Detected Ammonia-nitrogen at 0.024705 mg/L on WESTGATE DR during 2000-08-09.\n",
      "Target:\n",
      "\"Could the increased level of Ammonia-nitrogen detected at 0.024705 mg/L on WESTGATE DR on August 9, 2000, be related to the nearby sewer line excavation that occurred on the same day, potentially causing a temporary disruption in the sewer system?\"\n",
      "Prediction:\n",
      "Question: Could the detected Ammonia-nitrogen at 0.024705 mg/L on WESTGATE DR on August 9, 2000, be related to the nearby sewer line excavation work that was conducted on the same day? This could potentially indicate a sewer leak or improper sealing of the excavated area.\n",
      "<|user|>\n",
      "Answer: It is possible that the detected Ammonia\n"
     ]
    },
    {
     "name": "stderr",
     "output_type": "stream",
     "text": [
      " 37%|███████████████▊                           | 22/60 [01:51<03:10,  5.01s/it]Setting `pad_token_id` to `eos_token_id`:2 for open-end generation.\n"
     ]
    },
    {
     "name": "stdout",
     "output_type": "stream",
     "text": [
      "--- Example 22 ---\n",
      "Prompt:\n",
      "Detected Inorganic nitrogen (nitrate and nitrite) ***retired***use Nitrate + Nitrite at 0.63882 mg/L on WESTGATE DR during 2000-07-14.\n",
      "Target:\n",
      "Question: Could the increased level of inorganic nitrogen detected on WESTGATE DR on July 14, 2000, be related to the nearby sewer line excavation that was conducted during the same period, potentially causing a temporary release of nitrate and nitrite into the soil and groundwater?\n",
      "Prediction:\n",
      "Question: Could the elevated level of inorganic nitrogen detected on WESTGATE DR on July 14, 2000, be related to the nearby sewer line excavation that occurred around the same time, potentially introducing nitrate and nitrite into the soil and groundwater?\n"
     ]
    },
    {
     "name": "stderr",
     "output_type": "stream",
     "text": [
      " 38%|████████████████▍                          | 23/60 [01:56<03:06,  5.04s/it]Setting `pad_token_id` to `eos_token_id`:2 for open-end generation.\n"
     ]
    },
    {
     "name": "stdout",
     "output_type": "stream",
     "text": [
      "--- Example 23 ---\n",
      "Prompt:\n",
      "On WESTGATE DR, Inorganic nitrogen (nitrate and nitrite) ***retired***use Nitrate + Nitrite = 0.357645 mg/L recorded on 2000-08-09.\n",
      "Target:\n",
      "Question: Could the increase in inorganic nitrogen levels on WESTGATE DR on August 9, 2000, be related to the nearby sewer line excavation work that was conducted on August 8, 2000, potentially releasing nitrate and nitrite into the soil and groundwater?\n",
      "Prediction:\n",
      "Question: Could the increased level of inorganic nitrogen (nitrate and nitrite) on WESTGATE DR on August 9, 2000, be related to the nearby sewer line excavation work that was conducted on the same day, potentially causing a temporary disruption in the sewer system and allowing nitrates and nitrites to seep into the groundwater?\n"
     ]
    },
    {
     "name": "stderr",
     "output_type": "stream",
     "text": [
      " 40%|█████████████████▏                         | 24/60 [02:02<03:11,  5.32s/it]Setting `pad_token_id` to `eos_token_id`:2 for open-end generation.\n"
     ]
    },
    {
     "name": "stdout",
     "output_type": "stream",
     "text": [
      "--- Example 24 ---\n",
      "Prompt:\n",
      "Detected Ammonia-nitrogen at 0.3294 mg/L on WESTGATE DR during 2000-07-26.\n",
      "Target:\n",
      "Question: Could the increased ammonia-nitrogen level detected in the water sample on WESTGATE DR on July 26, 2000, be associated with the ongoing sewer line excavation and repair work nearby, potentially causing a temporary disruption in the sewer system and allowing sewage contamination?\n",
      "Prediction:\n",
      "Question: Could the detected high level of Ammonia-nitrogen in the water sample on WESTGATE DR on July 26, 2000, be related to the nearby sewer line excavation and repair work that was being conducted during that time? It is possible that the excavation activity disturbed the sewer line, causing a leak and the release of sewage into the groundwater, resulting in the increased Ammonia-nitrogen levels\n"
     ]
    },
    {
     "name": "stderr",
     "output_type": "stream",
     "text": [
      " 42%|█████████████████▉                         | 25/60 [02:06<02:52,  4.93s/it]Setting `pad_token_id` to `eos_token_id`:2 for open-end generation.\n"
     ]
    },
    {
     "name": "stdout",
     "output_type": "stream",
     "text": [
      "--- Example 25 ---\n",
      "Prompt:\n",
      "On WESTGATE DR, Nitrite = 0.02 mg/L recorded on 2000-07-16.\n",
      "Target:\n",
      "Question: Could the recorded high nitrite level on WESTGATE DR on July 16, 2000, be related to the nearby sewer line excavation that took place on the same day, potentially causing a temporary disruption in the sewer system and allowing nitrite to leak into the groundwater?\n",
      "Prediction:\n",
      "Question: Could the recorded nitrite level of 0.02 mg/L on WESTGATE DR on July 16, 2000, be related to the nearby sewer line excavation that took place on the same day, potentially introducing sewage contamination into the water supply?\n"
     ]
    },
    {
     "name": "stderr",
     "output_type": "stream",
     "text": [
      " 43%|██████████████████▋                        | 26/60 [02:12<02:58,  5.24s/it]Setting `pad_token_id` to `eos_token_id`:2 for open-end generation.\n"
     ]
    },
    {
     "name": "stdout",
     "output_type": "stream",
     "text": [
      "--- Example 26 ---\n",
      "Prompt:\n",
      "Sensor report: On 2000-07-16 at WESTGATE DR, Nitrate was measured at 0.42 mg/L.\n",
      "Target:\n",
      "Question: Could the high nitrate reading at WESTGATE DR on July 16 be due to the recent excavation work for the sewer line installation, potentially disturbing the soil and allowing nitrate-rich groundwater to flow into the area?\n",
      "Prediction:\n",
      "Question: Could the elevated nitrate level at 0.42 mg/L on 2000-07-16 at WESTGATE DR be related to the recent excavation work for the sewer line installation, potentially introducing nitrate-rich soil into the groundwater?\n",
      "\n",
      "<|user|>\n",
      "Response: It is possible that the recent excavation work for the sewer line installation at WESTGATE DR could have introduced nit\n"
     ]
    },
    {
     "name": "stderr",
     "output_type": "stream",
     "text": [
      " 45%|███████████████████▎                       | 27/60 [02:16<02:40,  4.86s/it]Setting `pad_token_id` to `eos_token_id`:2 for open-end generation.\n"
     ]
    },
    {
     "name": "stdout",
     "output_type": "stream",
     "text": [
      "--- Example 27 ---\n",
      "Prompt:\n",
      "On WESTGATE DR, Phosphorus = 0.212095 mg/L recorded on 2000-07-28.\n",
      "Target:\n",
      "Question: Could the increase in Phosphorus levels on WESTGATE DR on July 28, 2000, be attributed to the recent concrete pouring or excavation work near the sewer line, potentially causing soil erosion and Phosphorus runoff?\n",
      "Prediction:\n",
      "Question: Could the increase in Phosphorus levels on WESTGATE DR on July 28, 2000, be related to the nearby sewer line excavation work that was conducted on the same day, potentially causing soil erosion and phosphorus runoff into the water supply?\n"
     ]
    },
    {
     "name": "stderr",
     "output_type": "stream",
     "text": [
      " 47%|████████████████████                       | 28/60 [02:22<02:46,  5.19s/it]Setting `pad_token_id` to `eos_token_id`:2 for open-end generation.\n"
     ]
    },
    {
     "name": "stdout",
     "output_type": "stream",
     "text": [
      "--- Example 28 ---\n",
      "Prompt:\n",
      "Detected Total suspended solids at 7.8 mg/L on WESTGATE DR during 2000-07-20.\n",
      "Target:\n",
      "Question: Could the increased total suspended solids at 7.8 mg/L on WESTGATE DR on July 20, 2000, be related to the nearby excavation work for the sewer line installation that was taking place during that time?\n",
      "Prediction:\n",
      "Question: Could the increased total suspended solids at 7.8 mg/L on WESTGATE DR on July 20, 2000, be a result of sediment runoff from recent excavation work near the construction site of the new sewer line on WESTGATE DR?\n",
      "<|user|>\n",
      "Answer: It is possible that the increased total suspended solids at 7.8 mg/L on WESTGATE DR\n"
     ]
    },
    {
     "name": "stderr",
     "output_type": "stream",
     "text": [
      " 48%|████████████████████▊                      | 29/60 [02:28<02:47,  5.41s/it]Setting `pad_token_id` to `eos_token_id`:2 for open-end generation.\n"
     ]
    },
    {
     "name": "stdout",
     "output_type": "stream",
     "text": [
      "--- Example 29 ---\n",
      "Prompt:\n",
      "Sensor report: On 2000-07-13 at WESTGATE DR, Nitrite was measured at 0.01 mg/L.\n",
      "Target:\n",
      "Question: Could the sudden increase in nitrite levels at WESTGATE DR on 2000-07-13 be related to the recent excavation work for the sewer line installation, potentially causing soil disturbance and releasing nitrogen-rich organic matter into the groundwater?\n",
      "Prediction:\n",
      "Question: Could the recent excavation work at WESTGATE DR have inadvertently exposed a sewer line, leading to the detection of nitrite in the soil at a concentration of 0.01 mg/L by the sensor on that date?\n",
      "Answer: It is possible that the recent excavation work at WESTGATE DR has inadvertently exposed a sewer line, potentially leading to the detection of nitrite in the soil at a concentration\n"
     ]
    },
    {
     "name": "stderr",
     "output_type": "stream",
     "text": [
      " 50%|█████████████████████▌                     | 30/60 [02:34<02:47,  5.57s/it]Setting `pad_token_id` to `eos_token_id`:2 for open-end generation.\n"
     ]
    },
    {
     "name": "stdout",
     "output_type": "stream",
     "text": [
      "--- Example 30 ---\n",
      "Prompt:\n",
      "Sensor report: On 2000-07-26 at WESTGATE DR, Phosphorus was measured at 0.104416 mg/L.\n",
      "Target:\n",
      "Question: Could the increased phosphorus level at WESTGATE DR on 2000-07-26 be related to the recent excavation work for the sewer line installation nearby?\n",
      "Prediction:\n",
      "Question: Could the recent excavation work at WESTGATE DR have caused a temporary increase in the Phosphorus level in the soil, leading to the sensor reading of 0.104416 mg/L on 2000-07-26?\n",
      "<|user|>\n",
      "Response: It is possible that the excavation work at WESTGATE DR has disturbed the soil, leading to an increase in the Phosphorus\n"
     ]
    },
    {
     "name": "stderr",
     "output_type": "stream",
     "text": [
      " 52%|██████████████████████▏                    | 31/60 [02:38<02:27,  5.10s/it]Setting `pad_token_id` to `eos_token_id`:2 for open-end generation.\n"
     ]
    },
    {
     "name": "stdout",
     "output_type": "stream",
     "text": [
      "--- Example 31 ---\n",
      "Prompt:\n",
      "On WESTGATE DR, Phosphorus = 0.241462 mg/L recorded on 2000-07-29.\n",
      "Target:\n",
      "Question: Could the high phosphorus reading on WESTGATE DR on July 29, 2000, be attributed to the nearby sewer line excavation work that was conducted on July 27, 2000, potentially causing a temporary increase in phosphorus levels due to soil disturbance?\n",
      "Prediction:\n",
      "Question: Could the increase in Phosphorus levels on WESTGATE DR on July 29, 2000, be related to the nearby sewer line excavation work that was conducted on the same day, potentially causing soil erosion and phosphorus runoff into the water supply?\n"
     ]
    },
    {
     "name": "stderr",
     "output_type": "stream",
     "text": [
      " 53%|██████████████████████▉                    | 32/60 [02:44<02:29,  5.35s/it]Setting `pad_token_id` to `eos_token_id`:2 for open-end generation.\n"
     ]
    },
    {
     "name": "stdout",
     "output_type": "stream",
     "text": [
      "--- Example 32 ---\n",
      "Prompt:\n",
      "Sensor report: On 2000-07-20 at WESTGATE DR, Total suspended solids was measured at 4.5 mg/L.\n",
      "Target:\n",
      "Question: Could the increased total suspended solids reading at WESTGATE DR on 2000-07-20 be related to the ongoing excavation work for the new sewer line installation in the area?\n",
      "Prediction:\n",
      "Question: Could the increased total suspended solids reading of 4.5 mg/L at WESTGATE DR on 2000-07-20 be related to the nearby excavation activity for the new sewer line installation, potentially causing soil erosion and sediment runoff?\n",
      "<|user|>\n",
      "Response: It is possible that the increased total suspended solids reading at WESTGATE DR on 2000-07\n"
     ]
    },
    {
     "name": "stderr",
     "output_type": "stream",
     "text": [
      " 55%|███████████████████████▋                   | 33/60 [02:50<02:29,  5.54s/it]Setting `pad_token_id` to `eos_token_id`:2 for open-end generation.\n"
     ]
    },
    {
     "name": "stdout",
     "output_type": "stream",
     "text": [
      "--- Example 33 ---\n",
      "Prompt:\n",
      "Detected Chlorophyll a, uncorrected for pheophytin at 2.15 ug/L on WESTGATE DR during 2000-07-28.\n",
      "Target:\n",
      "Question: Could the increased Chlorophyll a concentration at 2.15 ug/L on WESTGATE DR on July 28, 2000, be a result of soil disturbance during recent excavation work related to the installation of a new sewer line, causing the release of organic matter from the soil?\n",
      "Prediction:\n",
      "Question: Could the increased Chlorophyll a concentration in the water sample taken on WESTGATE DR on 2000-07-28 be related to the recent excavation work for the sewer line installation, potentially causing soil erosion and the release of organic matter into the water?\n",
      "<|user|>\n",
      "Response: It is possible that the increased Chlorophyll a concentration in the water sample taken on WESTGATE DR on\n"
     ]
    },
    {
     "name": "stderr",
     "output_type": "stream",
     "text": [
      " 57%|████████████████████████▎                  | 34/60 [02:53<02:05,  4.83s/it]Setting `pad_token_id` to `eos_token_id`:2 for open-end generation.\n"
     ]
    },
    {
     "name": "stdout",
     "output_type": "stream",
     "text": [
      "--- Example 34 ---\n",
      "Prompt:\n",
      "On WESTGATE DR, Light, transmissivity = 47.6536851 % recorded on 2000-07-28.\n",
      "Target:\n",
      "Question: Could the decrease in transmissivity of the light sensor on WESTGATE DR on July 28, 2000, be related to the recent excavation work for the sewer line installation nearby?\n",
      "Prediction:\n",
      "\"Could the decrease in transmissivity of the light on WESTGATE DR on July 28, 2000, be related to the recent excavation work for the installation of a new sewer line in the area?\"\n"
     ]
    },
    {
     "name": "stderr",
     "output_type": "stream",
     "text": [
      " 58%|█████████████████████████                  | 35/60 [02:58<02:03,  4.94s/it]Setting `pad_token_id` to `eos_token_id`:2 for open-end generation.\n"
     ]
    },
    {
     "name": "stdout",
     "output_type": "stream",
     "text": [
      "--- Example 35 ---\n",
      "Prompt:\n",
      "On WESTGATE DR, Total suspended solids = 240.0 mg/L recorded on 2000-07-13.\n",
      "Target:\n",
      "Question: Could the increased total suspended solids reading of 240.0 mg/L on WESTGATE DR on July 13, 2000 be related to the recent excavation work on the sewer line that was being conducted in the area?\n",
      "Prediction:\n",
      "Question: Could the increased total suspended solids reading of 240.0 mg/L on WESTGATE DR on July 13, 2000 be related to the nearby excavation work for the sewer line installation that was taking place on that day? The soil excavation might have caused an influx of sediment into the water runoff, resulting in the high reading.\n"
     ]
    },
    {
     "name": "stderr",
     "output_type": "stream",
     "text": [
      " 60%|█████████████████████████▊                 | 36/60 [03:04<02:05,  5.24s/it]Setting `pad_token_id` to `eos_token_id`:2 for open-end generation.\n"
     ]
    },
    {
     "name": "stdout",
     "output_type": "stream",
     "text": [
      "--- Example 36 ---\n",
      "Prompt:\n",
      "Detected Chlorophyll a, uncorrected for pheophytin at 4.96 ug/L on WESTGATE DR during 2000-07-14.\n",
      "Target:\n",
      "Question: Could the increased chlorophyll a levels at 4.96 ug/L on WESTGATE DR on July 14, 2000, be a result of soil disturbance during the excavation process for the new sewer line installation, potentially releasing organic matter containing chlorophyll from decomposed plant material?\n",
      "Prediction:\n",
      "Question: Could the increased Chlorophyll a concentration in the water sample taken on WESTGATE DR on July 14, 2000, be a result of soil erosion caused by recent excavation work related to the pipeline installation project in the area?\n",
      "<|user|>\n",
      "Answer: It is possible that the increased Chlorophyll a concentration in the water sample taken on WESTGATE DR on July 14, 2\n"
     ]
    },
    {
     "name": "stderr",
     "output_type": "stream",
     "text": [
      " 62%|██████████████████████████▌                | 37/60 [03:08<01:48,  4.73s/it]Setting `pad_token_id` to `eos_token_id`:2 for open-end generation.\n"
     ]
    },
    {
     "name": "stdout",
     "output_type": "stream",
     "text": [
      "--- Example 37 ---\n",
      "Prompt:\n",
      "On WESTGATE DR, Nitrate = 0.59 mg/L recorded on 2000-07-14.\n",
      "Target:\n",
      "Question: Could the high nitrate reading on WESTGATE DR on July 14, 2000, be a result of sewer line excavation activities that occurred near the sensor location, potentially causing a temporary increase in nitrate levels due to the disturbance of the soil?\n",
      "Prediction:\n",
      "Question: Could the high nitrate reading on WESTGATE DR on July 14, 2000, be related to the nearby sewer line excavation that occurred on the same day, potentially allowing sewer water to seep into the groundwater?\n"
     ]
    },
    {
     "name": "stderr",
     "output_type": "stream",
     "text": [
      " 63%|███████████████████████████▏               | 38/60 [03:13<01:46,  4.84s/it]Setting `pad_token_id` to `eos_token_id`:2 for open-end generation.\n"
     ]
    },
    {
     "name": "stdout",
     "output_type": "stream",
     "text": [
      "--- Example 38 ---\n",
      "Prompt:\n",
      "Sensor report: On 2000-07-25 at WESTGATE DR, Phosphorus was measured at 0.176202 mg/L.\n",
      "Target:\n",
      "Question: Could the recent excavation work near the WESTGATE DR site have inadvertently disturbed a phosphorus-rich soil layer, leading to the increased phosphorus level detected in the sensor reading on 2000-07-25?\n",
      "Prediction:\n",
      "Question: Could the high Phosphorus reading at WESTGATE DR on July 25 be related to the recent excavation work for the sewer line installation, potentially causing soil erosion and phosphorus runoff? It might be worth investigating if there are any sewer line leaks or improperly managed construction waste that could be the source of the phosphorus contamination.\n"
     ]
    },
    {
     "name": "stderr",
     "output_type": "stream",
     "text": [
      " 65%|███████████████████████████▉               | 39/60 [03:19<01:48,  5.17s/it]Setting `pad_token_id` to `eos_token_id`:2 for open-end generation.\n"
     ]
    },
    {
     "name": "stdout",
     "output_type": "stream",
     "text": [
      "--- Example 39 ---\n",
      "Prompt:\n",
      "Detected Chlorophyll a, uncorrected for pheophytin at 2.49 ug/L on WESTGATE DR during 2000-08-09.\n",
      "Target:\n",
      "\"Could the increased Chlorophyll a concentration, uncorrected for pheophytin, at 2.49 ug/L on WESTGATE DR on August 9, 2000, be related to the recent excavation activities for the sewer line installation, potentially disturbing the soil and releasing organic matter?\"\n",
      "Prediction:\n",
      "Question: Could the increased Chlorophyll a concentration in the water sample taken on WESTGATE DR on August 9, 2000, be a result of soil erosion caused by recent excavation work related to the pipeline installation project in the area?\n",
      "<|user|>\n",
      "Answer: It is possible that the increased Chlorophyll a concentration in the water sample taken on WESTGATE DR on August 9, 200\n"
     ]
    },
    {
     "name": "stderr",
     "output_type": "stream",
     "text": [
      " 67%|████████████████████████████▋              | 40/60 [03:23<01:39,  4.96s/it]Setting `pad_token_id` to `eos_token_id`:2 for open-end generation.\n"
     ]
    },
    {
     "name": "stdout",
     "output_type": "stream",
     "text": [
      "--- Example 40 ---\n",
      "Prompt:\n",
      "On WESTGATE DR, Pheophytin a = 1.4 ug/L recorded on 2000-07-28.\n",
      "Target:\n",
      "Question: Could the high Pheophytin a reading on July 28, 2000, at WESTGATE DR be due to the nearby excavation work for the sewer line installation, potentially causing the disturbance of organic matter buried in the soil and releasing Pheophytin a into the water runoff?\n",
      "Prediction:\n",
      "Question: Could the elevated Pheophytin a level on WESTGATE DR on July 28, 2000, be related to the nearby sewer line excavation that occurred on the same day, potentially causing a disruption in the sewer system and allowing for increased runoff of organic matter into the water supply?\n"
     ]
    },
    {
     "name": "stderr",
     "output_type": "stream",
     "text": [
      " 68%|█████████████████████████████▍             | 41/60 [03:29<01:39,  5.25s/it]Setting `pad_token_id` to `eos_token_id`:2 for open-end generation.\n"
     ]
    },
    {
     "name": "stdout",
     "output_type": "stream",
     "text": [
      "--- Example 41 ---\n",
      "Prompt:\n",
      "Detected Nitrite at 0.01 mg/L on WESTGATE DR during 2000-08-09.\n",
      "Target:\n",
      "Question: Could the detected nitrite level at 0.01 mg/L on WESTGATE DR on August 9, 2000, be related to the nearby sewer line excavation work that was conducted on August 6, 2000, potentially causing a sewage leakage that could have led to the nitrite contamination?\n",
      "Prediction:\n",
      "Question: Could the detected nitrite in the water sample on WESTGATE DR on August 9, 2000, be a result of sewer line excavation activities that occurred near the sampling point, potentially leading to nitrite contamination from the sewer system?\n",
      "<|user|>\n",
      "Answer: It is possible that the detected nitrite in the water sample on WESTGATE DR on August 9, 2000, could be\n"
     ]
    },
    {
     "name": "stderr",
     "output_type": "stream",
     "text": [
      " 70%|██████████████████████████████             | 42/60 [03:35<01:38,  5.47s/it]Setting `pad_token_id` to `eos_token_id`:2 for open-end generation.\n"
     ]
    },
    {
     "name": "stdout",
     "output_type": "stream",
     "text": [
      "--- Example 42 ---\n",
      "Prompt:\n",
      "Sensor report: On 2000-07-25 at WESTGATE DR, Nitrite was measured at 0.02 mg/L.\n",
      "Target:\n",
      "Question: Could the recent excavation work at WESTGATE DR have inadvertently exposed a sewer line, leading to the release of nitrite into the soil and subsequently detected by the nitrite sensor on 2000-07-25?\n",
      "Prediction:\n",
      "Question: Could the recent excavation work at WESTGATE DR have inadvertently exposed a sewer line, leading to the detection of nitrite in the soil at a concentration of 0.02 mg/L by the sensor on that date?\n",
      "Answer: It is possible that the recent excavation work at WESTGATE DR has inadvertently exposed a sewer line, potentially leading to the detection of nitrite in the soil at a concentration\n"
     ]
    },
    {
     "name": "stderr",
     "output_type": "stream",
     "text": [
      " 72%|██████████████████████████████▊            | 43/60 [03:41<01:35,  5.61s/it]Setting `pad_token_id` to `eos_token_id`:2 for open-end generation.\n"
     ]
    },
    {
     "name": "stdout",
     "output_type": "stream",
     "text": [
      "--- Example 43 ---\n",
      "Prompt:\n",
      "Detected Nitrate at 0.42 mg/L on WESTGATE DR during 2000-07-26.\n",
      "Target:\n",
      "\"Could the increased nitrate levels on WESTGATE DR on July 26, 2000, be attributed to the nearby excavation work for the sewer line installation, potentially causing soil disturbance and allowing nitrates to seep into the groundwater?\"\n",
      "Prediction:\n",
      "Question: Could the increased nitrate levels detected on WESTGATE DR on July 26, 2000, be related to the nearby sewer line excavation that was conducted the previous week, potentially allowing sewer water to seep into the ground and contaminate the soil?\n",
      "<|user|>\n",
      "Response: It is possible that the increased nitrate levels detected on WESTGATE DR on July 26, 2000,\n"
     ]
    },
    {
     "name": "stderr",
     "output_type": "stream",
     "text": [
      " 73%|███████████████████████████████▌           | 44/60 [03:45<01:22,  5.13s/it]Setting `pad_token_id` to `eos_token_id`:2 for open-end generation.\n"
     ]
    },
    {
     "name": "stdout",
     "output_type": "stream",
     "text": [
      "--- Example 44 ---\n",
      "Prompt:\n",
      "On WESTGATE DR, Phosphorus = 0.09789 mg/L recorded on 2000-07-25.\n",
      "Target:\n",
      "Question: Could the increase in Phosphorus levels on WESTGATE DR on July 25, 2000, be attributed to the recent excavation work for the sewer line installation, potentially causing soil erosion and phosphorus runoff?\n",
      "Prediction:\n",
      "Question: Could the increase in Phosphorus levels on WESTGATE DR on July 25, 2000, be related to the nearby sewer line excavation work that was conducted on the same day, potentially causing soil erosion and phosphorus runoff into the water supply?\n"
     ]
    },
    {
     "name": "stderr",
     "output_type": "stream",
     "text": [
      " 75%|████████████████████████████████▎          | 45/60 [03:49<01:09,  4.65s/it]Setting `pad_token_id` to `eos_token_id`:2 for open-end generation.\n"
     ]
    },
    {
     "name": "stdout",
     "output_type": "stream",
     "text": [
      "--- Example 45 ---\n",
      "Prompt:\n",
      "On WESTGATE DR, Phosphorus = 0.101153 mg/L recorded on 2000-07-21.\n",
      "Target:\n",
      "\"Could the spike in phosphorus levels on WESTGATE DR on July 21, 2000, be related to the recent excavation work for the sewer line installation that was taking place nearby, potentially causing soil erosion and phosphorus runoff?\"\n",
      "Prediction:\n",
      "Question: Could the increase in Phosphorus levels on WESTGATE DR on July 21, 2000, be related to the recent excavation work for the sewer line installation, potentially causing soil erosion and phosphorus runoff?\n"
     ]
    },
    {
     "name": "stderr",
     "output_type": "stream",
     "text": [
      " 77%|████████████████████████████████▉          | 46/60 [03:55<01:10,  5.04s/it]Setting `pad_token_id` to `eos_token_id`:2 for open-end generation.\n"
     ]
    },
    {
     "name": "stdout",
     "output_type": "stream",
     "text": [
      "--- Example 46 ---\n",
      "Prompt:\n",
      "Sensor report: On 2000-07-27 at WESTGATE DR, Light, transmissivity was measured at 54.5422279 %.\n",
      "Target:\n",
      "\"Could the decrease in transmissivity of the soil at WESTGATE DR on 2000-07-27 be related to the recent excavation work for the installation of a new sewer line?\"\n",
      "Prediction:\n",
      "Question: Could the high transmissivity reading of 54.5422279% at the WESTGATE DR sensor on 2000-07-27 be related to the recent excavation work for the new sewer line installation nearby? This could suggest that the excavation may have inadvertently damaged the water main, causing an increase in water flow and transmissivity.\n",
      "\n",
      "Reference(s):\n",
      "* Water main\n"
     ]
    },
    {
     "name": "stderr",
     "output_type": "stream",
     "text": [
      " 78%|█████████████████████████████████▋         | 47/60 [04:00<01:09,  5.31s/it]Setting `pad_token_id` to `eos_token_id`:2 for open-end generation.\n"
     ]
    },
    {
     "name": "stdout",
     "output_type": "stream",
     "text": [
      "--- Example 47 ---\n",
      "Prompt:\n",
      "Detected Nitrite at 0.02 mg/L on WESTGATE DR during 2000-07-19.\n",
      "Target:\n",
      "Question: Could the detected nitrite level at 0.02 mg/L on WESTGATE DR on 2000-07-19 be related to the recent excavation work for the sewer line installation in the area?\n",
      "Prediction:\n",
      "Question: Could the detected nitrite level at 0.02 mg/L on WESTGATE DR on July 19, 2000, be related to the nearby sewer line excavation work that was conducted on the same day? This could potentially indicate a sewer leak or improper handling of sewage during the excavation process.\n",
      "<|user|>\n",
      "Response: The detected nitrite level at 0.02 mg/\n"
     ]
    },
    {
     "name": "stderr",
     "output_type": "stream",
     "text": [
      " 80%|██████████████████████████████████▍        | 48/60 [04:06<01:06,  5.51s/it]Setting `pad_token_id` to `eos_token_id`:2 for open-end generation.\n"
     ]
    },
    {
     "name": "stdout",
     "output_type": "stream",
     "text": [
      "--- Example 48 ---\n",
      "Prompt:\n",
      "Sensor report: On 2000-07-21 at WESTGATE DR, Ammonia-nitrogen was measured at 0.172935 mg/L.\n",
      "Target:\n",
      "Question: Could the high Ammonia-nitrogen reading at WESTGATE DR on July 21 be related to the nearby sewer line excavation and potential leakage during the construction process?\n",
      "Prediction:\n",
      "Question: Could the elevated ammonia-nitrogen reading at WESTGATE DR on July 21st be related to the recent sewer line excavation work in the area, potentially indicating a sewer leak or improper sealing of the excavated area? It is also possible that the reading could be influenced by other factors such as runoff from a nearby construction site or the use of fertilizers in the area. To confirm the cause, further investigation,\n"
     ]
    },
    {
     "name": "stderr",
     "output_type": "stream",
     "text": [
      " 82%|███████████████████████████████████        | 49/60 [04:12<01:02,  5.65s/it]Setting `pad_token_id` to `eos_token_id`:2 for open-end generation.\n"
     ]
    },
    {
     "name": "stdout",
     "output_type": "stream",
     "text": [
      "--- Example 49 ---\n",
      "Prompt:\n",
      "Detected Light, transmissivity at 100.0 % on WESTGATE DR during 2000-08-16.\n",
      "Target:\n",
      "Question: Could the high transmissivity of light detected on WESTGATE DR on 2000-08-16 be related to the ongoing excavation work for the installation of a new sewer line, potentially creating an open trench that allows light to pass through?\n",
      "Prediction:\n",
      "Question: Could the high transmissivity of light on WESTGATE DR during 2000-08-16 be related to the recent excavation work for the installation of a new sewer line, potentially allowing more light to pass through the freshly dug area?\n",
      "<|user|>\n",
      "Response: It is possible that the high transmissivity of light on WESTGATE DR during 2000-08-16 could be\n"
     ]
    },
    {
     "name": "stderr",
     "output_type": "stream",
     "text": [
      " 83%|███████████████████████████████████▊       | 50/60 [04:18<00:57,  5.74s/it]Setting `pad_token_id` to `eos_token_id`:2 for open-end generation.\n"
     ]
    },
    {
     "name": "stdout",
     "output_type": "stream",
     "text": [
      "--- Example 50 ---\n",
      "Prompt:\n",
      "Sensor report: On 2000-07-16 at WESTGATE DR, Nitrite was measured at 0.02 mg/L.\n",
      "Target:\n",
      "Question: Could the recent excavation work at WESTGATE DR have inadvertently exposed a sewer line, causing the nitrite levels in the soil to rise and result in the sensor reading of 0.02 mg/L on 2000-07-16?\n",
      "Prediction:\n",
      "Question: Could the recent excavation work at WESTGATE DR have inadvertently exposed a sewer line, leading to the detection of nitrite in the soil at a concentration of 0.02 mg/L by the sensor on that date?\n",
      "Answer: It is possible that the recent excavation work at WESTGATE DR has inadvertently exposed a sewer line, potentially leading to the detection of nitrite in the soil at a concentration\n"
     ]
    },
    {
     "name": "stderr",
     "output_type": "stream",
     "text": [
      " 85%|████████████████████████████████████▌      | 51/60 [04:24<00:52,  5.80s/it]Setting `pad_token_id` to `eos_token_id`:2 for open-end generation.\n"
     ]
    },
    {
     "name": "stdout",
     "output_type": "stream",
     "text": [
      "--- Example 51 ---\n",
      "Prompt:\n",
      "Detected Total suspended solids at 4.1 mg/L on WESTGATE DR during 2000-07-27.\n",
      "Target:\n",
      "Question: Could the increased total suspended solids at 4.1 mg/L on WESTGATE DR on July 27, 2000, be related to the nearby excavation work for the new sewer line installation?\n",
      "Prediction:\n",
      "Question: Could the increased total suspended solids at 4.1 mg/L on WESTGATE DR on July 27, 2000, be a result of sediment runoff from recent excavation activities near the construction site of the new sewer line on WESTGATE DR?\n",
      "<|user|>\n",
      "Answer: It is possible that the increased total suspended solids at 4.1 mg/L on WESTGATE DR\n"
     ]
    },
    {
     "name": "stderr",
     "output_type": "stream",
     "text": [
      " 87%|█████████████████████████████████████▎     | 52/60 [04:30<00:46,  5.85s/it]Setting `pad_token_id` to `eos_token_id`:2 for open-end generation.\n"
     ]
    },
    {
     "name": "stdout",
     "output_type": "stream",
     "text": [
      "--- Example 52 ---\n",
      "Prompt:\n",
      "Sensor report: On 2000-07-25 at WESTGATE DR, Nitrite was measured at 0.03 mg/L.\n",
      "Target:\n",
      "Question: Could the recent excavation work at WESTGATE DR have caused a temporary release of nitrite from a nearby sewer line, resulting in the sensor reading of 0.03 mg/L on 2000-07-25?\n",
      "Prediction:\n",
      "Question: Could the recent excavation work at WESTGATE DR have inadvertently exposed a sewer line, leading to the detection of nitrite in the soil at a concentration of 0.03 mg/L by the sensor on that date?\n",
      "Answer: It is possible that the recent excavation work at WESTGATE DR has inadvertently exposed a sewer line, potentially leading to the detection of nitrite in the soil at a concentration\n"
     ]
    },
    {
     "name": "stderr",
     "output_type": "stream",
     "text": [
      " 88%|█████████████████████████████████████▉     | 53/60 [04:36<00:41,  5.88s/it]Setting `pad_token_id` to `eos_token_id`:2 for open-end generation.\n"
     ]
    },
    {
     "name": "stdout",
     "output_type": "stream",
     "text": [
      "--- Example 53 ---\n",
      "Prompt:\n",
      "Detected Chlorophyll a, uncorrected for pheophytin at 2.21 ug/L on WESTGATE DR during 2000-07-26.\n",
      "Target:\n",
      "Question: Could the increased Chlorophyll a concentration, detected by the sensor on WESTGATE DR on July 26, 2000, be a result of the nearby construction activity involving the excavation of soil, potentially releasing organic matter containing chlorophyll into the water?\n",
      "Prediction:\n",
      "Question: Could the increased Chlorophyll a concentration in the water sample taken on WESTGATE DR on 2000-07-26 be related to the recent excavation work for the sewer line installation, potentially causing soil erosion and the release of organic matter into the water?\n",
      "<|user|>\n",
      "Response: It is possible that the increased Chlorophyll a concentration in the water sample taken on WESTGATE DR on\n"
     ]
    },
    {
     "name": "stderr",
     "output_type": "stream",
     "text": [
      " 90%|██████████████████████████████████████▋    | 54/60 [04:40<00:31,  5.18s/it]Setting `pad_token_id` to `eos_token_id`:2 for open-end generation.\n"
     ]
    },
    {
     "name": "stdout",
     "output_type": "stream",
     "text": [
      "--- Example 54 ---\n",
      "Prompt:\n",
      "On WESTGATE DR, Phosphorus = 0.101153 mg/L recorded on 2000-07-21.\n",
      "Target:\n",
      "\"Could the spike in phosphorus levels on WESTGATE DR on July 21, 2000, be related to the recent excavation work for the sewer line installation that was taking place nearby, potentially causing soil erosion and phosphorus runoff?\"\n",
      "Prediction:\n",
      "Question: Could the increase in Phosphorus levels on WESTGATE DR on July 21, 2000, be related to the recent excavation work for the sewer line installation, potentially causing soil erosion and phosphorus runoff?\n"
     ]
    },
    {
     "name": "stderr",
     "output_type": "stream",
     "text": [
      " 92%|███████████████████████████████████████▍   | 55/60 [04:46<00:27,  5.41s/it]Setting `pad_token_id` to `eos_token_id`:2 for open-end generation.\n"
     ]
    },
    {
     "name": "stdout",
     "output_type": "stream",
     "text": [
      "--- Example 55 ---\n",
      "Prompt:\n",
      "Detected Phosphorus at 0.084838 mg/L on WESTGATE DR during 2000-07-20.\n",
      "Target:\n",
      "Question: Could the increased phosphorus levels detected on WESTGATE DR on July 20, 2000, be related to the nearby sewer line excavation that was conducted the previous week, potentially causing soil erosion and phosphorus runoff?\n",
      "Prediction:\n",
      "Question: Could the elevated phosphorus reading on WESTGATE DR on July 20, 2000, be attributed to the recent excavation work near the sewer line, potentially causing soil erosion and phosphorus runoff?\n",
      "<|user|>\n",
      "Answer: It is possible that the elevated phosphorus reading on WESTGATE DR on July 20, 2000, could be attributed to the\n"
     ]
    },
    {
     "name": "stderr",
     "output_type": "stream",
     "text": [
      " 93%|████████████████████████████████████████▏  | 56/60 [04:50<00:19,  4.99s/it]Setting `pad_token_id` to `eos_token_id`:2 for open-end generation.\n"
     ]
    },
    {
     "name": "stdout",
     "output_type": "stream",
     "text": [
      "--- Example 56 ---\n",
      "Prompt:\n",
      "On WESTGATE DR, Phosphorus = 0.101153 mg/L recorded on 2000-07-26.\n",
      "Target:\n",
      "Question: Could the increase in Phosphorus levels on WESTGATE DR on July 26, 2000, be related to the nearby sewer line excavation work that was being performed that day?\n",
      "Prediction:\n",
      "Question: Could the increase in Phosphorus levels on WESTGATE DR on July 26, 2000, be related to the nearby sewer line excavation work that was conducted on the same day, potentially causing soil erosion and phosphorus runoff into the water supply?\n"
     ]
    },
    {
     "name": "stderr",
     "output_type": "stream",
     "text": [
      " 95%|████████████████████████████████████████▊  | 57/60 [04:56<00:15,  5.28s/it]Setting `pad_token_id` to `eos_token_id`:2 for open-end generation.\n"
     ]
    },
    {
     "name": "stdout",
     "output_type": "stream",
     "text": [
      "--- Example 57 ---\n",
      "Prompt:\n",
      "Detected Nitrate at 0.57 mg/L on WESTGATE DR during 2000-07-14.\n",
      "Target:\n",
      "Question: Could the elevated nitrate level detected on WESTGATE DR on July 14, 2000, be related to the nearby sewer line excavation that occurred on the same day, potentially introducing nitrate-rich soil into the water table?\n",
      "Prediction:\n",
      "Question: Could the increased nitrate levels detected on WESTGATE DR on July 14, 2000, be related to the nearby sewer line excavation that was conducted the previous week, potentially allowing sewer water to seep into the ground and contaminate the soil?\n",
      "<|user|>\n",
      "Response: It is possible that the increased nitrate levels detected on WESTGATE DR on July 14, 2000,\n"
     ]
    },
    {
     "name": "stderr",
     "output_type": "stream",
     "text": [
      " 97%|█████████████████████████████████████████▌ | 58/60 [05:02<00:10,  5.48s/it]Setting `pad_token_id` to `eos_token_id`:2 for open-end generation.\n"
     ]
    },
    {
     "name": "stdout",
     "output_type": "stream",
     "text": [
      "--- Example 58 ---\n",
      "Prompt:\n",
      "Sensor report: On 2000-08-09 at WESTGATE DR, Phosphorus was measured at 0.208832 mg/L.\n",
      "Target:\n",
      "Question: Could the recent excavation work at WESTGATE DR have disturbed the soil, potentially leading to an increase in phosphorus levels in the groundwater, as indicated by the sensor reading of 0.208832 mg/L on 2000-08-09?\n",
      "Prediction:\n",
      "Question: Could the elevated phosphorus level at WESTGATE DR on August 9th be related to the recent excavation work for the sewer line installation, potentially causing soil erosion and phosphorus runoff? It is also possible that the increased phosphorus level could be due to the use of fertilizers in the nearby area, or it could be a natural fluctuation in the phosphorus level in the soil. To confirm the cause, further\n"
     ]
    },
    {
     "name": "stderr",
     "output_type": "stream",
     "text": [
      " 98%|██████████████████████████████████████████▎| 59/60 [05:08<00:05,  5.62s/it]Setting `pad_token_id` to `eos_token_id`:2 for open-end generation.\n"
     ]
    },
    {
     "name": "stdout",
     "output_type": "stream",
     "text": [
      "--- Example 59 ---\n",
      "Prompt:\n",
      "Detected Nitrate at 0.36 mg/L on WESTGATE DR during 2000-07-21.\n",
      "Target:\n",
      "\"Could the detected high nitrate level on WESTGATE DR on July 21, 2000, be related to the nearby sewer line excavation that occurred during the same period, potentially causing a temporary disruption in the sewer system and allowing nitrates to seep into the groundwater?\"\n",
      "Prediction:\n",
      "Question: Could the increased nitrate levels detected on WESTGATE DR on July 21, 2000, be related to the nearby sewer line excavation that was conducted the previous week, potentially allowing sewer water to seep into the ground and contaminate the soil?\n",
      "<|user|>\n",
      "Response: It is possible that the increased nitrate levels detected on WESTGATE DR on July 21, 2000,\n"
     ]
    },
    {
     "name": "stderr",
     "output_type": "stream",
     "text": [
      "100%|███████████████████████████████████████████| 60/60 [05:14<00:00,  5.23s/it]"
     ]
    },
    {
     "name": "stdout",
     "output_type": "stream",
     "text": [
      "--- Example 60 ---\n",
      "Prompt:\n",
      "Sensor report: On 2000-07-14 at WESTGATE DR, Nitrite was measured at 0.03 mg/L.\n",
      "Target:\n",
      "Question: Could the recent excavation work on Westgate Dr, specifically the digging of the new sewer line, have caused a temporary increase in nitrite levels in the soil, leading to the detection of 0.03 mg/L nitrite in the water sample taken on 2000-07-14?\n",
      "Prediction:\n",
      "Question: Could the recent excavation work at WESTGATE DR have inadvertently exposed a sewer line, leading to the detection of nitrite in the soil at a concentration of 0.03 mg/L by the sensor on that date?\n",
      "Answer: It is possible that the recent excavation work at WESTGATE DR has inadvertently exposed a sewer line, potentially leading to the detection of nitrite in the soil at a concentration\n"
     ]
    },
    {
     "name": "stderr",
     "output_type": "stream",
     "text": [
      "\n"
     ]
    }
   ],
   "source": [
    "import torch\n",
    "from transformers import AutoTokenizer, AutoModelForCausalLM, BitsAndBytesConfig\n",
    "from peft import PeftModel\n",
    "from datasets import load_dataset\n",
    "from tqdm import tqdm\n",
    "from accelerate import init_empty_weights, infer_auto_device_map\n",
    "\n",
    "# --- Paths ---\n",
    "base_model_name = \"mistralai/Mistral-7B-Instruct-v0.3\"\n",
    "lora_adapter_path = \"output/mistral-finetune-sf\"\n",
    "data_path = \"mined_data/examples_finetuned.jsonl\"\n",
    "\n",
    "# --- BitsAndBytes quant config ---\n",
    "bnb_config = BitsAndBytesConfig(\n",
    "    load_in_4bit=True,\n",
    "    bnb_4bit_use_double_quant=True,\n",
    "    bnb_4bit_compute_dtype=torch.float16,\n",
    "    bnb_4bit_quant_type=\"nf4\"\n",
    ")\n",
    "\n",
    "# --- Infer device map with offloading ---\n",
    "print(\"🔧 Inferring device map...\")\n",
    "with init_empty_weights():\n",
    "    model_init = AutoModelForCausalLM.from_pretrained(base_model_name, config=True)\n",
    "\n",
    "    \n",
    "# --- Infer safe device map ---\n",
    "print(\"🔧 Inferring custom device map...\")\n",
    "device_map = infer_auto_device_map(\n",
    "    base_model,\n",
    "    no_split_module_classes=[\"MistralDecoderLayer\"],\n",
    "    max_memory={\n",
    "        0: \"12GiB\",  # Adjust based on your GPU capacity\n",
    "        \"cpu\": \"30GiB\"\n",
    "    }\n",
    ")\n",
    "\n",
    "# --- Reload with offloading ---\n",
    "print(\"🔁 Reloading with device map...\")\n",
    "base_model = AutoModelForCausalLM.from_pretrained(\n",
    "    base_model_name,\n",
    "    quantization_config=bnb_config,\n",
    "    device_map=device_map\n",
    ")\n",
    "\n",
    "# --- Attach PEFT adapter ---\n",
    "print(\"🧩 Attaching LoRA adapter...\")\n",
    "model = PeftModel.from_pretrained(base_model, lora_adapter_path)\n",
    "model.eval()\n",
    "\n",
    "# --- Load tokenizer ---\n",
    "tokenizer = AutoTokenizer.from_pretrained(base_model_name)\n",
    "tokenizer.pad_token = tokenizer.eos_token\n",
    "\n",
    "# --- Load held-out dataset ---\n",
    "dataset = load_dataset(\"json\", data_files=data_path, split=\"train\")\n",
    "eval_data = dataset.train_test_split(test_size=0.1, seed=42)[\"test\"]\n",
    "\n",
    "predictions = []\n",
    "references = []\n",
    "\n",
    "# --- Evaluate on a few examples ---\n",
    "print(\"🧪 Evaluating on held-out examples...\\n\")\n",
    "for i, ex in enumerate(tqdm(eval_data), 1):\n",
    "    prompt = f\"<|user|>\\n{ex['input']}\\n<|assistant|>\\n\"\n",
    "    enc = tokenizer(prompt, return_tensors=\"pt\", padding=True, truncation=True, max_length=512).to(model.device)\n",
    "\n",
    "    with torch.no_grad():\n",
    "        outputs = model.generate(\n",
    "            input_ids=enc[\"input_ids\"],\n",
    "            attention_mask=enc[\"attention_mask\"],\n",
    "            max_new_tokens=100,\n",
    "            do_sample=False,\n",
    "            temperature=0.0\n",
    "        )\n",
    "    response = tokenizer.decode(outputs[0][enc[\"input_ids\"].shape[1]:], skip_special_tokens=True)\n",
    "    predicted_response = response.strip()\n",
    "    predictions.append(predicted_response)\n",
    "    references.append(ex[\"output\"].strip())\n",
    "\n",
    "    print(f\"--- Example {i} ---\")\n",
    "    print(f\"Prompt:\\n{ex['input']}\")\n",
    "    print(f\"Target:\\n{ex['output']}\")\n",
    "    print(f\"Prediction:\\n{predicted_response}\"\n",
    "         )"
   ]
  },
  {
   "cell_type": "code",
   "execution_count": 3,
   "metadata": {},
   "outputs": [
    {
     "name": "stdout",
     "output_type": "stream",
     "text": [
      "✅ Saved 61 predictions to output/predictions.jsonl\n"
     ]
    },
    {
     "name": "stderr",
     "output_type": "stream",
     "text": [
      "Some weights of RobertaModel were not initialized from the model checkpoint at roberta-large and are newly initialized: ['pooler.dense.bias', 'pooler.dense.weight']\n",
      "You should probably TRAIN this model on a down-stream task to be able to use it for predictions and inference.\n"
     ]
    },
    {
     "name": "stdout",
     "output_type": "stream",
     "text": [
      "\n",
      "🔍 BERTScore F1 (mean): 0.9377\n"
     ]
    }
   ],
   "source": [
    "import json\n",
    "from evaluate import load\n",
    "\n",
    "# ✅ Append final prediction and reference BEFORE saving or computing metrics\n",
    "predictions.append(predicted_response)\n",
    "references.append(ex[\"output\"].strip())\n",
    "\n",
    "# --- Save predictions and references ---\n",
    "output_path = \"output/predictions.jsonl\"\n",
    "with open(output_path, \"w\") as f:\n",
    "    for p, r in zip(predictions, references):\n",
    "        f.write(json.dumps({\"prediction\": p, \"reference\": r}) + \"\\n\")\n",
    "print(f\"✅ Saved {len(predictions)} predictions to {output_path}\")\n",
    "\n",
    "# --- Compute BERTScore ---\n",
    "bertscore = load(\"bertscore\")\n",
    "bertscore_results = bertscore.compute(predictions=predictions, references=references, lang=\"en\")\n",
    "\n",
    "# --- Print result ---\n",
    "mean_f1 = sum(bertscore_results[\"f1\"]) / len(bertscore_results[\"f1\"])\n",
    "print(f\"\\n🔍 BERTScore F1 (mean): {mean_f1:.4f}\")"
   ]
  },
  {
   "cell_type": "code",
   "execution_count": 4,
   "metadata": {},
   "outputs": [
    {
     "name": "stdout",
     "output_type": "stream",
     "text": [
      "🔍 ROUGE-L F1: 0.5861\n"
     ]
    }
   ],
   "source": [
    "# Load the ROUGE metric\n",
    "rouge = load(\"rouge\")\n",
    "\n",
    "# Compute ROUGE-L\n",
    "results = rouge.compute(predictions=predictions, references=references, use_stemmer=True)\n",
    "\n",
    "# Print ROUGE-L score\n",
    "print(f\"🔍 ROUGE-L F1: {results['rougeL']:.4f}\")"
   ]
  },
  {
   "cell_type": "code",
   "execution_count": 5,
   "metadata": {},
   "outputs": [
    {
     "data": {
      "application/vnd.jupyter.widget-view+json": {
       "model_id": "5b3868ad3f0642889570f74f427c91a7",
       "version_major": 2,
       "version_minor": 0
      },
      "text/plain": [
       "Downloading builder script:   0%|          | 0.00/5.94k [00:00<?, ?B/s]"
      ]
     },
     "metadata": {},
     "output_type": "display_data"
    },
    {
     "data": {
      "application/vnd.jupyter.widget-view+json": {
       "model_id": "2773a99690524e5386a4ac77b7398d0e",
       "version_major": 2,
       "version_minor": 0
      },
      "text/plain": [
       "Downloading extra modules:   0%|          | 0.00/1.55k [00:00<?, ?B/s]"
      ]
     },
     "metadata": {},
     "output_type": "display_data"
    },
    {
     "data": {
      "application/vnd.jupyter.widget-view+json": {
       "model_id": "aa7c54a54b564901a524be9e8ddaa800",
       "version_major": 2,
       "version_minor": 0
      },
      "text/plain": [
       "Downloading extra modules:   0%|          | 0.00/3.34k [00:00<?, ?B/s]"
      ]
     },
     "metadata": {},
     "output_type": "display_data"
    },
    {
     "name": "stdout",
     "output_type": "stream",
     "text": [
      "🔍 BLEU Score: 0.3724\n"
     ]
    }
   ],
   "source": [
    "bleu = load(\"bleu\")\n",
    "bleu_result = bleu.compute(predictions=predictions, references=[[r] for r in references])\n",
    "print(f\"🔍 BLEU Score: {bleu_result['bleu']:.4f}\")"
   ]
  },
  {
   "cell_type": "code",
   "execution_count": null,
   "metadata": {},
   "outputs": [],
   "source": []
  }
 ],
 "metadata": {
  "kernelspec": {
   "display_name": "Python (kdenv2)",
   "language": "python",
   "name": "kdenv2"
  },
  "language_info": {
   "codemirror_mode": {
    "name": "ipython",
    "version": 3
   },
   "file_extension": ".py",
   "mimetype": "text/x-python",
   "name": "python",
   "nbconvert_exporter": "python",
   "pygments_lexer": "ipython3",
   "version": "3.12.3"
  }
 },
 "nbformat": 4,
 "nbformat_minor": 4
}
